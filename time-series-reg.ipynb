{
  "nbformat": 4,
  "nbformat_minor": 0,
  "metadata": {
    "colab": {
      "name": "11DatasetFinal2.ipynb",
      "provenance": [],
      "collapsed_sections": [],
      "toc_visible": true
    },
    "kernelspec": {
      "name": "python3",
      "display_name": "Python 3"
    }
  },
  "cells": [
    {
      "cell_type": "markdown",
      "metadata": {
        "id": "khHUV_BdKm9V"
      },
      "source": [
        "# 211 Dataset"
      ]
    },
    {
      "cell_type": "markdown",
      "metadata": {
        "id": "W45tixE6LD4f"
      },
      "source": [
        "## Upload or download data"
      ]
    },
    {
      "cell_type": "code",
      "metadata": {
        "id": "P7y_nE1RPQtZ",
        "outputId": "538d7d0c-44d5-4a9c-a4bd-e87ffce92b2b",
        "colab": {
          "base_uri": "https://localhost:8080/"
        }
      },
      "source": [
        "!pip install --upgrade scikit-learn"
      ],
      "execution_count": 3,
      "outputs": [
        {
          "output_type": "stream",
          "text": [
            "Collecting scikit-learn\n",
            "\u001b[?25l  Downloading https://files.pythonhosted.org/packages/5c/a1/273def87037a7fb010512bbc5901c31cfddfca8080bc63b42b26e3cc55b3/scikit_learn-0.23.2-cp36-cp36m-manylinux1_x86_64.whl (6.8MB)\n",
            "\u001b[K     |████████████████████████████████| 6.8MB 4.1MB/s \n",
            "\u001b[?25hCollecting threadpoolctl>=2.0.0\n",
            "  Downloading https://files.pythonhosted.org/packages/f7/12/ec3f2e203afa394a149911729357aa48affc59c20e2c1c8297a60f33f133/threadpoolctl-2.1.0-py3-none-any.whl\n",
            "Requirement already satisfied, skipping upgrade: scipy>=0.19.1 in /usr/local/lib/python3.6/dist-packages (from scikit-learn) (1.4.1)\n",
            "Requirement already satisfied, skipping upgrade: joblib>=0.11 in /usr/local/lib/python3.6/dist-packages (from scikit-learn) (0.17.0)\n",
            "Requirement already satisfied, skipping upgrade: numpy>=1.13.3 in /usr/local/lib/python3.6/dist-packages (from scikit-learn) (1.18.5)\n",
            "Installing collected packages: threadpoolctl, scikit-learn\n",
            "  Found existing installation: scikit-learn 0.22.2.post1\n",
            "    Uninstalling scikit-learn-0.22.2.post1:\n",
            "      Successfully uninstalled scikit-learn-0.22.2.post1\n",
            "Successfully installed scikit-learn-0.23.2 threadpoolctl-2.1.0\n"
          ],
          "name": "stdout"
        }
      ]
    },
    {
      "cell_type": "code",
      "metadata": {
        "id": "az4QHraeK_AP",
        "outputId": "a3c86785-8887-443c-9a9e-e19ee559a471",
        "colab": {
          "base_uri": "https://localhost:8080/"
        }
      },
      "source": [
        "from google.colab import drive\n",
        "drive.mount('/gdrive')\n",
        "# %cd /gdrive"
      ],
      "execution_count": 1,
      "outputs": [
        {
          "output_type": "stream",
          "text": [
            "Mounted at /gdrive\n"
          ],
          "name": "stdout"
        }
      ]
    },
    {
      "cell_type": "code",
      "metadata": {
        "id": "DlAq3iLzW2Q6"
      },
      "source": [
        "data_path = \"/gdrive/My Drive/Colab Notebooks/AI4Good/appels_left.csv\""
      ],
      "execution_count": 4,
      "outputs": []
    },
    {
      "cell_type": "markdown",
      "metadata": {
        "id": "iFpxrPD0ENHi"
      },
      "source": [
        "## Exploratory Data Ananlysis"
      ]
    },
    {
      "cell_type": "code",
      "metadata": {
        "id": "ZolR-aQ-QsYS"
      },
      "source": [
        "import pandas as pd\n",
        "# To plot pretty figures\n",
        "%matplotlib inline\n",
        "import matplotlib as mpl\n",
        "import matplotlib.pyplot as plt\n",
        "mpl.rc('axes', labelsize=14)\n",
        "mpl.rc('xtick', labelsize=12)\n",
        "mpl.rc('ytick', labelsize=12)"
      ],
      "execution_count": 96,
      "outputs": []
    },
    {
      "cell_type": "code",
      "metadata": {
        "id": "J7xagFKTRiCU"
      },
      "source": [
        "calls_df = pd.read_csv(data_path, parse_dates=['CallDateAndTimeStart'])"
      ],
      "execution_count": 6,
      "outputs": []
    },
    {
      "cell_type": "code",
      "metadata": {
        "id": "lvnaRyqcRpeL"
      },
      "source": [
        "calls_df.drop('Unnamed: 0', axis=1, inplace=True)"
      ],
      "execution_count": 7,
      "outputs": []
    },
    {
      "cell_type": "code",
      "metadata": {
        "id": "Hm9o5V_QRuZE",
        "outputId": "402b1e5d-0173-434f-87d5-05f714878189",
        "colab": {
          "base_uri": "https://localhost:8080/"
        }
      },
      "source": [
        "calls_df.columns.to_list()"
      ],
      "execution_count": 8,
      "outputs": [
        {
          "output_type": "execute_result",
          "data": {
            "text/plain": [
              "['CallReportNum',\n",
              " 'CallDateAndTimeStart',\n",
              " 'StateProvince',\n",
              " 'Heure',\n",
              " 'Code postal court',\n",
              " 'Municipalité_Code',\n",
              " 'Âge_x',\n",
              " \"Catégorie d'âge_x\",\n",
              " 'Genre_x',\n",
              " 'Langue_x',\n",
              " 'Mode De Communication_x',\n",
              " 'Municipalité_Nom',\n",
              " 'Région Administrative',\n",
              " 'Région administrative_Code',\n",
              " 'Territoire_division',\n",
              " 'Territoire_code',\n",
              " 'MRC',\n",
              " 'MRCEN',\n",
              " 'Superficie',\n",
              " 'Population',\n",
              " 'Statut',\n",
              " 'Territoire CMM',\n",
              " 'Territoire CMM_val',\n",
              " 'Centraide Grand Montréal',\n",
              " 'Territoire 211 Grand Montréal',\n",
              " 'TaxonomyCode_full',\n",
              " 'TaxonomyName_full',\n",
              " 'NeedWasUnmet',\n",
              " 'ReasonIfUnmetOrPartial',\n",
              " 'Level1Code',\n",
              " 'Level1Name',\n",
              " 'Level2Code',\n",
              " 'Level2Name',\n",
              " 'Level3Code',\n",
              " 'Level3Name',\n",
              " 'Level4Code',\n",
              " 'Level4Name',\n",
              " 'Level5Code',\n",
              " 'Level5Name',\n",
              " 'AIRSNeedCategory',\n",
              " 'ReportNeedNum',\n",
              " 'TaxonomyCode_main',\n",
              " 'TaxonomyCode_link',\n",
              " 'TaxonomyName_main',\n",
              " 'TaxonomyName_link',\n",
              " 'Âge_y',\n",
              " \"Catégorie d'âge_y\",\n",
              " 'Genre_y',\n",
              " 'Langue_y',\n",
              " 'Mode De Communication_y']"
            ]
          },
          "metadata": {
            "tags": []
          },
          "execution_count": 8
        }
      ]
    },
    {
      "cell_type": "code",
      "metadata": {
        "id": "sWWJNZzaZfVM"
      },
      "source": [
        "cols2view = ['Âge_x', 'Âge_y',\n",
        " \"Catégorie d'âge_x\", \"Catégorie d'âge_y\",\n",
        " 'Genre_x', 'Genre_y',\n",
        " 'Langue_x', 'Langue_y',\n",
        " 'Mode De Communication_x', 'Mode De Communication_y']\n",
        "calls_df.dropna(inplace=True, subset=cols2view, axis=0)"
      ],
      "execution_count": 9,
      "outputs": []
    },
    {
      "cell_type": "code",
      "metadata": {
        "id": "l_FRMIvfTDZ9",
        "outputId": "976979f4-a3b1-445f-d234-ce72d8215533",
        "colab": {
          "base_uri": "https://localhost:8080/"
        }
      },
      "source": [
        "calls_df.shape"
      ],
      "execution_count": 10,
      "outputs": [
        {
          "output_type": "execute_result",
          "data": {
            "text/plain": [
              "(123025, 50)"
            ]
          },
          "metadata": {
            "tags": []
          },
          "execution_count": 10
        }
      ]
    },
    {
      "cell_type": "code",
      "metadata": {
        "id": "XM3ARTuVlc_8",
        "outputId": "01916f72-2edb-45ae-9e58-0080f024d2ad",
        "colab": {
          "base_uri": "https://localhost:8080/",
          "height": 452
        }
      },
      "source": [
        "calls_df.head()"
      ],
      "execution_count": 11,
      "outputs": [
        {
          "output_type": "execute_result",
          "data": {
            "text/html": [
              "<div>\n",
              "<style scoped>\n",
              "    .dataframe tbody tr th:only-of-type {\n",
              "        vertical-align: middle;\n",
              "    }\n",
              "\n",
              "    .dataframe tbody tr th {\n",
              "        vertical-align: top;\n",
              "    }\n",
              "\n",
              "    .dataframe thead th {\n",
              "        text-align: right;\n",
              "    }\n",
              "</style>\n",
              "<table border=\"1\" class=\"dataframe\">\n",
              "  <thead>\n",
              "    <tr style=\"text-align: right;\">\n",
              "      <th></th>\n",
              "      <th>CallReportNum</th>\n",
              "      <th>CallDateAndTimeStart</th>\n",
              "      <th>StateProvince</th>\n",
              "      <th>Heure</th>\n",
              "      <th>Code postal court</th>\n",
              "      <th>Municipalité_Code</th>\n",
              "      <th>Âge_x</th>\n",
              "      <th>Catégorie d'âge_x</th>\n",
              "      <th>Genre_x</th>\n",
              "      <th>Langue_x</th>\n",
              "      <th>Mode De Communication_x</th>\n",
              "      <th>Municipalité_Nom</th>\n",
              "      <th>Région Administrative</th>\n",
              "      <th>Région administrative_Code</th>\n",
              "      <th>Territoire_division</th>\n",
              "      <th>Territoire_code</th>\n",
              "      <th>MRC</th>\n",
              "      <th>MRCEN</th>\n",
              "      <th>Superficie</th>\n",
              "      <th>Population</th>\n",
              "      <th>Statut</th>\n",
              "      <th>Territoire CMM</th>\n",
              "      <th>Territoire CMM_val</th>\n",
              "      <th>Centraide Grand Montréal</th>\n",
              "      <th>Territoire 211 Grand Montréal</th>\n",
              "      <th>TaxonomyCode_full</th>\n",
              "      <th>TaxonomyName_full</th>\n",
              "      <th>NeedWasUnmet</th>\n",
              "      <th>ReasonIfUnmetOrPartial</th>\n",
              "      <th>Level1Code</th>\n",
              "      <th>Level1Name</th>\n",
              "      <th>Level2Code</th>\n",
              "      <th>Level2Name</th>\n",
              "      <th>Level3Code</th>\n",
              "      <th>Level3Name</th>\n",
              "      <th>Level4Code</th>\n",
              "      <th>Level4Name</th>\n",
              "      <th>Level5Code</th>\n",
              "      <th>Level5Name</th>\n",
              "      <th>AIRSNeedCategory</th>\n",
              "      <th>ReportNeedNum</th>\n",
              "      <th>TaxonomyCode_main</th>\n",
              "      <th>TaxonomyCode_link</th>\n",
              "      <th>TaxonomyName_main</th>\n",
              "      <th>TaxonomyName_link</th>\n",
              "      <th>Âge_y</th>\n",
              "      <th>Catégorie d'âge_y</th>\n",
              "      <th>Genre_y</th>\n",
              "      <th>Langue_y</th>\n",
              "      <th>Mode De Communication_y</th>\n",
              "    </tr>\n",
              "  </thead>\n",
              "  <tbody>\n",
              "    <tr>\n",
              "      <th>1</th>\n",
              "      <td>51805954</td>\n",
              "      <td>2018-04-01</td>\n",
              "      <td>QC</td>\n",
              "      <td>11</td>\n",
              "      <td>H1T</td>\n",
              "      <td>66213.0</td>\n",
              "      <td>35.0</td>\n",
              "      <td>30-39 ans</td>\n",
              "      <td>Homme</td>\n",
              "      <td>Français</td>\n",
              "      <td>Appels</td>\n",
              "      <td>Rosemont—La Petite-Patrie</td>\n",
              "      <td>Montréal</td>\n",
              "      <td>6.0</td>\n",
              "      <td>Montréal</td>\n",
              "      <td>66.0</td>\n",
              "      <td>Montréal</td>\n",
              "      <td>Montréal</td>\n",
              "      <td>NaN</td>\n",
              "      <td>NaN</td>\n",
              "      <td>arrondissement</td>\n",
              "      <td>Montréal</td>\n",
              "      <td>Oui</td>\n",
              "      <td>Montréal</td>\n",
              "      <td>Oui</td>\n",
              "      <td>BD-5000.8300</td>\n",
              "      <td>Repas pour les sans-abri</td>\n",
              "      <td>False</td>\n",
              "      <td>NaN</td>\n",
              "      <td>B</td>\n",
              "      <td>Besoins fondamentaux</td>\n",
              "      <td>BD</td>\n",
              "      <td>Aide alimentaire</td>\n",
              "      <td>BD-5000</td>\n",
              "      <td>Distribution de repas</td>\n",
              "      <td>BD-5000.8300</td>\n",
              "      <td>Repas pour les sans-abri</td>\n",
              "      <td>BD-5000.8300</td>\n",
              "      <td>Repas pour les sans-abri</td>\n",
              "      <td>Alimentation</td>\n",
              "      <td>12443170.0</td>\n",
              "      <td>BD-5000.8300</td>\n",
              "      <td>NaN</td>\n",
              "      <td>Repas pour les sans-abri</td>\n",
              "      <td>NaN</td>\n",
              "      <td>35.0</td>\n",
              "      <td>30-39 ans</td>\n",
              "      <td>Homme</td>\n",
              "      <td>Français</td>\n",
              "      <td>Appels</td>\n",
              "    </tr>\n",
              "    <tr>\n",
              "      <th>3</th>\n",
              "      <td>51806377</td>\n",
              "      <td>2018-04-01</td>\n",
              "      <td>QC</td>\n",
              "      <td>12</td>\n",
              "      <td>H1J</td>\n",
              "      <td>66201.0</td>\n",
              "      <td>40.0</td>\n",
              "      <td>40-49 ans</td>\n",
              "      <td>Homme</td>\n",
              "      <td>Français</td>\n",
              "      <td>Appels</td>\n",
              "      <td>Anjou</td>\n",
              "      <td>Montréal</td>\n",
              "      <td>6.0</td>\n",
              "      <td>Montréal</td>\n",
              "      <td>66.0</td>\n",
              "      <td>Montréal</td>\n",
              "      <td>Montréal</td>\n",
              "      <td>NaN</td>\n",
              "      <td>NaN</td>\n",
              "      <td>arrondissement</td>\n",
              "      <td>Montréal</td>\n",
              "      <td>Oui</td>\n",
              "      <td>Montréal</td>\n",
              "      <td>Oui</td>\n",
              "      <td>BD-1800.2250</td>\n",
              "      <td>Coupons de nourriture</td>\n",
              "      <td>False</td>\n",
              "      <td>NaN</td>\n",
              "      <td>B</td>\n",
              "      <td>Besoins fondamentaux</td>\n",
              "      <td>BD</td>\n",
              "      <td>Aide alimentaire</td>\n",
              "      <td>BD-1800</td>\n",
              "      <td>Aide alimentaire d'urgence</td>\n",
              "      <td>BD-1800.2250</td>\n",
              "      <td>Coupons de nourriture</td>\n",
              "      <td>BD-1800.2250</td>\n",
              "      <td>Coupons de nourriture</td>\n",
              "      <td>Alimentation</td>\n",
              "      <td>12443242.0</td>\n",
              "      <td>BD-1800.2250</td>\n",
              "      <td>NaN</td>\n",
              "      <td>Coupons de nourriture</td>\n",
              "      <td>NaN</td>\n",
              "      <td>40.0</td>\n",
              "      <td>40-49 ans</td>\n",
              "      <td>Homme</td>\n",
              "      <td>Français</td>\n",
              "      <td>Appels</td>\n",
              "    </tr>\n",
              "    <tr>\n",
              "      <th>4</th>\n",
              "      <td>51806377</td>\n",
              "      <td>2018-04-01</td>\n",
              "      <td>QC</td>\n",
              "      <td>12</td>\n",
              "      <td>H1J</td>\n",
              "      <td>66201.0</td>\n",
              "      <td>40.0</td>\n",
              "      <td>40-49 ans</td>\n",
              "      <td>Homme</td>\n",
              "      <td>Français</td>\n",
              "      <td>Appels</td>\n",
              "      <td>Anjou</td>\n",
              "      <td>Montréal</td>\n",
              "      <td>6.0</td>\n",
              "      <td>Montréal</td>\n",
              "      <td>66.0</td>\n",
              "      <td>Montréal</td>\n",
              "      <td>Montréal</td>\n",
              "      <td>NaN</td>\n",
              "      <td>NaN</td>\n",
              "      <td>arrondissement</td>\n",
              "      <td>Montréal</td>\n",
              "      <td>Oui</td>\n",
              "      <td>Montréal</td>\n",
              "      <td>Oui</td>\n",
              "      <td>BD-1800.2000</td>\n",
              "      <td>Banques alimentaires</td>\n",
              "      <td>False</td>\n",
              "      <td>NaN</td>\n",
              "      <td>B</td>\n",
              "      <td>Besoins fondamentaux</td>\n",
              "      <td>BD</td>\n",
              "      <td>Aide alimentaire</td>\n",
              "      <td>BD-1800</td>\n",
              "      <td>Aide alimentaire d'urgence</td>\n",
              "      <td>BD-1800.2000</td>\n",
              "      <td>Banques alimentaires</td>\n",
              "      <td>BD-1800.2000</td>\n",
              "      <td>Banques alimentaires</td>\n",
              "      <td>Alimentation</td>\n",
              "      <td>12443241.0</td>\n",
              "      <td>BD-1800.2000</td>\n",
              "      <td>NaN</td>\n",
              "      <td>Banques alimentaires</td>\n",
              "      <td>NaN</td>\n",
              "      <td>40.0</td>\n",
              "      <td>40-49 ans</td>\n",
              "      <td>Homme</td>\n",
              "      <td>Français</td>\n",
              "      <td>Appels</td>\n",
              "    </tr>\n",
              "    <tr>\n",
              "      <th>9</th>\n",
              "      <td>51807633</td>\n",
              "      <td>2018-04-01</td>\n",
              "      <td>QC</td>\n",
              "      <td>13</td>\n",
              "      <td>H4N</td>\n",
              "      <td>66214.0</td>\n",
              "      <td>50.0</td>\n",
              "      <td>50-59 ans</td>\n",
              "      <td>Homme</td>\n",
              "      <td>Français</td>\n",
              "      <td>Appels</td>\n",
              "      <td>Saint-Laurent</td>\n",
              "      <td>Montréal</td>\n",
              "      <td>6.0</td>\n",
              "      <td>Montréal</td>\n",
              "      <td>66.0</td>\n",
              "      <td>Centre-Ouest-de-l'Ile</td>\n",
              "      <td>West Central Montreal</td>\n",
              "      <td>NaN</td>\n",
              "      <td>NaN</td>\n",
              "      <td>arrondissement</td>\n",
              "      <td>Montréal</td>\n",
              "      <td>Oui</td>\n",
              "      <td>Montréal</td>\n",
              "      <td>Oui</td>\n",
              "      <td>PS-8000.8000</td>\n",
              "      <td>Clubs pour les célibataires</td>\n",
              "      <td>False</td>\n",
              "      <td>NaN</td>\n",
              "      <td>P</td>\n",
              "      <td>Vie personnelle et familiale</td>\n",
              "      <td>PS</td>\n",
              "      <td>Développement et enrichissement social</td>\n",
              "      <td>PS-8000</td>\n",
              "      <td>Clubs et évènements sociaux</td>\n",
              "      <td>PS-8000.8000</td>\n",
              "      <td>Clubs pour les célibataires</td>\n",
              "      <td>PS-8000.8000</td>\n",
              "      <td>Clubs pour les célibataires</td>\n",
              "      <td>Sports et loisirs</td>\n",
              "      <td>12443460.0</td>\n",
              "      <td>PS-8000.8000</td>\n",
              "      <td>NaN</td>\n",
              "      <td>Clubs pour les célibataires</td>\n",
              "      <td>NaN</td>\n",
              "      <td>50.0</td>\n",
              "      <td>50-59 ans</td>\n",
              "      <td>Homme</td>\n",
              "      <td>Français</td>\n",
              "      <td>Appels</td>\n",
              "    </tr>\n",
              "    <tr>\n",
              "      <th>10</th>\n",
              "      <td>51807633</td>\n",
              "      <td>2018-04-01</td>\n",
              "      <td>QC</td>\n",
              "      <td>13</td>\n",
              "      <td>H4N</td>\n",
              "      <td>66214.0</td>\n",
              "      <td>50.0</td>\n",
              "      <td>50-59 ans</td>\n",
              "      <td>Homme</td>\n",
              "      <td>Français</td>\n",
              "      <td>Appels</td>\n",
              "      <td>Saint-Laurent</td>\n",
              "      <td>Montréal</td>\n",
              "      <td>6.0</td>\n",
              "      <td>Montréal</td>\n",
              "      <td>66.0</td>\n",
              "      <td>Centre-Ouest-de-l'Ile</td>\n",
              "      <td>West Central Montreal</td>\n",
              "      <td>NaN</td>\n",
              "      <td>NaN</td>\n",
              "      <td>arrondissement</td>\n",
              "      <td>Montréal</td>\n",
              "      <td>Oui</td>\n",
              "      <td>Montréal</td>\n",
              "      <td>Oui</td>\n",
              "      <td>TC-5500.6000</td>\n",
              "      <td>Centres de quartier</td>\n",
              "      <td>False</td>\n",
              "      <td>NaN</td>\n",
              "      <td>T</td>\n",
              "      <td>Services organisationnels, communautaires et i...</td>\n",
              "      <td>TC</td>\n",
              "      <td>Établissements et centres communautaires</td>\n",
              "      <td>TC-5500</td>\n",
              "      <td>Centres polyvalents</td>\n",
              "      <td>TC-5500.6000</td>\n",
              "      <td>Centres de quartier</td>\n",
              "      <td>TC-5500.6000</td>\n",
              "      <td>Centres de quartier</td>\n",
              "      <td>Soutien personnel, familial et communautaire</td>\n",
              "      <td>12443463.0</td>\n",
              "      <td>TC-5500.6000</td>\n",
              "      <td>NaN</td>\n",
              "      <td>Centres de quartier</td>\n",
              "      <td>NaN</td>\n",
              "      <td>50.0</td>\n",
              "      <td>50-59 ans</td>\n",
              "      <td>Homme</td>\n",
              "      <td>Français</td>\n",
              "      <td>Appels</td>\n",
              "    </tr>\n",
              "  </tbody>\n",
              "</table>\n",
              "</div>"
            ],
            "text/plain": [
              "    CallReportNum CallDateAndTimeStart  ...  Langue_y  Mode De Communication_y\n",
              "1        51805954           2018-04-01  ...  Français                   Appels\n",
              "3        51806377           2018-04-01  ...  Français                   Appels\n",
              "4        51806377           2018-04-01  ...  Français                   Appels\n",
              "9        51807633           2018-04-01  ...  Français                   Appels\n",
              "10       51807633           2018-04-01  ...  Français                   Appels\n",
              "\n",
              "[5 rows x 50 columns]"
            ]
          },
          "metadata": {
            "tags": []
          },
          "execution_count": 11
        }
      ]
    },
    {
      "cell_type": "code",
      "metadata": {
        "id": "WmjrNZOWk0H6",
        "outputId": "d90a9491-e9ec-489c-e508-7b3e2108a37a",
        "colab": {
          "base_uri": "https://localhost:8080/"
        }
      },
      "source": [
        "calls_df[\"Catégorie d'âge_x\"].value_counts(normalize=True)"
      ],
      "execution_count": 12,
      "outputs": [
        {
          "output_type": "execute_result",
          "data": {
            "text/plain": [
              "70 ans et plus    0.205755\n",
              "60-69 ans         0.176428\n",
              "50-59 ans         0.171981\n",
              "30-39 ans         0.162585\n",
              "40-49 ans         0.155887\n",
              "20-29 ans         0.092087\n",
              "0-19 ans          0.035277\n",
              "Name: Catégorie d'âge_x, dtype: float64"
            ]
          },
          "metadata": {
            "tags": []
          },
          "execution_count": 12
        }
      ]
    },
    {
      "cell_type": "code",
      "metadata": {
        "id": "URrTyaz-mYER",
        "outputId": "ce6c2a42-313e-47a2-ecdf-2908c17f2dae",
        "colab": {
          "base_uri": "https://localhost:8080/",
          "height": 881
        }
      },
      "source": [
        "calls_df[\"Catégorie d'âge_x\"].hist(bins=50, figsize=(20, 15))"
      ],
      "execution_count": 13,
      "outputs": [
        {
          "output_type": "execute_result",
          "data": {
            "text/plain": [
              "<matplotlib.axes._subplots.AxesSubplot at 0x7f2e94529e48>"
            ]
          },
          "metadata": {
            "tags": []
          },
          "execution_count": 13
        },
        {
          "output_type": "display_data",
          "data": {
            "image/png": "[encoded data removed]",
            "text/plain": [
              "<Figure size 1440x1080 with 1 Axes>"
            ]
          },
          "metadata": {
            "tags": [],
            "needs_background": "light"
          }
        }
      ]
    },
    {
      "cell_type": "code",
      "metadata": {
        "id": "g25qIotjE9Ru",
        "outputId": "891ef6d1-64ad-4866-c836-d11520969a72",
        "colab": {
          "base_uri": "https://localhost:8080/"
        }
      },
      "source": [
        "calls_df['AIRSNeedCategory'].value_counts(normalize=True)"
      ],
      "execution_count": 14,
      "outputs": [
        {
          "output_type": "execute_result",
          "data": {
            "text/plain": [
              "Alimentation                                                                           0.164226\n",
              "Logement                                                                               0.152696\n",
              "Bénévolat et dons                                                                      0.151123\n",
              "Soutien personnel, familial et communautaire                                           0.102345\n",
              "Santé mentale et dépendances                                                           0.074312\n",
              "Justice, consommation et sécurité publique                                             0.073731\n",
              "Santé                                                                                  0.060173\n",
              "Emploi et revenu                                                                       0.055889\n",
              "Information et aiguillage                                                              0.046169\n",
              "Services gouvernementaux, développement économique et associations professionnelles    0.030743\n",
              "Assistance matérielle                                                                  0.028513\n",
              "Transport                                                                              0.022117\n",
              "Sports et loisirs                                                                      0.021746\n",
              "Éducation                                                                              0.016217\n",
              "Name: AIRSNeedCategory, dtype: float64"
            ]
          },
          "metadata": {
            "tags": []
          },
          "execution_count": 14
        }
      ]
    },
    {
      "cell_type": "code",
      "metadata": {
        "id": "x1b6ffgKTIS6",
        "outputId": "f77c14ed-4880-4b44-aa2c-6eb9d3f80ee4",
        "colab": {
          "base_uri": "https://localhost:8080/",
          "height": 882
        }
      },
      "source": [
        "calls_df['AIRSNeedCategory'].hist(bins=50, figsize=(20, 15))"
      ],
      "execution_count": 15,
      "outputs": [
        {
          "output_type": "execute_result",
          "data": {
            "text/plain": [
              "<matplotlib.axes._subplots.AxesSubplot at 0x7f2e92ba4fd0>"
            ]
          },
          "metadata": {
            "tags": []
          },
          "execution_count": 15
        },
        {
          "output_type": "display_data",
          "data": {
            "image/png": "[encoded data removed]",
            "text/plain": [
              "<Figure size 1440x1080 with 1 Axes>"
            ]
          },
          "metadata": {
            "tags": [],
            "needs_background": "light"
          }
        }
      ]
    },
    {
      "cell_type": "code",
      "metadata": {
        "id": "ipYJvqjKZIIU",
        "outputId": "2e555a53-4748-43b2-fbf1-55c48e65c874",
        "colab": {
          "base_uri": "https://localhost:8080/"
        }
      },
      "source": [
        "calls_df.columns[calls_df.isna().any()].tolist(), len(calls_df.columns[calls_df.isna().any()].tolist())"
      ],
      "execution_count": 16,
      "outputs": [
        {
          "output_type": "execute_result",
          "data": {
            "text/plain": [
              "(['StateProvince',\n",
              "  'Code postal court',\n",
              "  'Municipalité_Code',\n",
              "  'Municipalité_Nom',\n",
              "  'Région Administrative',\n",
              "  'Région administrative_Code',\n",
              "  'Territoire_division',\n",
              "  'Territoire_code',\n",
              "  'MRC',\n",
              "  'MRCEN',\n",
              "  'Superficie',\n",
              "  'Population',\n",
              "  'Statut',\n",
              "  'Territoire CMM',\n",
              "  'Territoire CMM_val',\n",
              "  'Centraide Grand Montréal',\n",
              "  'Territoire 211 Grand Montréal',\n",
              "  'TaxonomyCode_full',\n",
              "  'TaxonomyName_full',\n",
              "  'NeedWasUnmet',\n",
              "  'ReasonIfUnmetOrPartial',\n",
              "  'Level1Code',\n",
              "  'Level1Name',\n",
              "  'Level2Code',\n",
              "  'Level2Name',\n",
              "  'Level3Code',\n",
              "  'Level3Name',\n",
              "  'Level4Code',\n",
              "  'Level4Name',\n",
              "  'Level5Code',\n",
              "  'Level5Name',\n",
              "  'AIRSNeedCategory',\n",
              "  'ReportNeedNum',\n",
              "  'TaxonomyCode_main',\n",
              "  'TaxonomyCode_link',\n",
              "  'TaxonomyName_main',\n",
              "  'TaxonomyName_link'],\n",
              " 37)"
            ]
          },
          "metadata": {
            "tags": []
          },
          "execution_count": 16
        }
      ]
    },
    {
      "cell_type": "code",
      "metadata": {
        "id": "nAYpqZk-YghE"
      },
      "source": [
        "cols2keep = [\n",
        " 'CallDateAndTimeStart',\n",
        " 'Heure',\n",
        " 'Centraide Grand Montréal',\n",
        " 'Territoire 211 Grand Montréal',\n",
        " 'NeedWasUnmet',\n",
        " 'AIRSNeedCategory',]\n",
        "new_df = calls_df[cols2keep]"
      ],
      "execution_count": 17,
      "outputs": []
    },
    {
      "cell_type": "code",
      "metadata": {
        "id": "ghpFEyJYKuEw",
        "outputId": "0360cfd0-95fb-4279-cc50-f26a8acae587",
        "colab": {
          "base_uri": "https://localhost:8080/",
          "height": 206
        }
      },
      "source": [
        "new_df.head()"
      ],
      "execution_count": 18,
      "outputs": [
        {
          "output_type": "execute_result",
          "data": {
            "text/html": [
              "<div>\n",
              "<style scoped>\n",
              "    .dataframe tbody tr th:only-of-type {\n",
              "        vertical-align: middle;\n",
              "    }\n",
              "\n",
              "    .dataframe tbody tr th {\n",
              "        vertical-align: top;\n",
              "    }\n",
              "\n",
              "    .dataframe thead th {\n",
              "        text-align: right;\n",
              "    }\n",
              "</style>\n",
              "<table border=\"1\" class=\"dataframe\">\n",
              "  <thead>\n",
              "    <tr style=\"text-align: right;\">\n",
              "      <th></th>\n",
              "      <th>CallDateAndTimeStart</th>\n",
              "      <th>Heure</th>\n",
              "      <th>Centraide Grand Montréal</th>\n",
              "      <th>Territoire 211 Grand Montréal</th>\n",
              "      <th>NeedWasUnmet</th>\n",
              "      <th>AIRSNeedCategory</th>\n",
              "    </tr>\n",
              "  </thead>\n",
              "  <tbody>\n",
              "    <tr>\n",
              "      <th>1</th>\n",
              "      <td>2018-04-01</td>\n",
              "      <td>11</td>\n",
              "      <td>Montréal</td>\n",
              "      <td>Oui</td>\n",
              "      <td>False</td>\n",
              "      <td>Alimentation</td>\n",
              "    </tr>\n",
              "    <tr>\n",
              "      <th>3</th>\n",
              "      <td>2018-04-01</td>\n",
              "      <td>12</td>\n",
              "      <td>Montréal</td>\n",
              "      <td>Oui</td>\n",
              "      <td>False</td>\n",
              "      <td>Alimentation</td>\n",
              "    </tr>\n",
              "    <tr>\n",
              "      <th>4</th>\n",
              "      <td>2018-04-01</td>\n",
              "      <td>12</td>\n",
              "      <td>Montréal</td>\n",
              "      <td>Oui</td>\n",
              "      <td>False</td>\n",
              "      <td>Alimentation</td>\n",
              "    </tr>\n",
              "    <tr>\n",
              "      <th>9</th>\n",
              "      <td>2018-04-01</td>\n",
              "      <td>13</td>\n",
              "      <td>Montréal</td>\n",
              "      <td>Oui</td>\n",
              "      <td>False</td>\n",
              "      <td>Sports et loisirs</td>\n",
              "    </tr>\n",
              "    <tr>\n",
              "      <th>10</th>\n",
              "      <td>2018-04-01</td>\n",
              "      <td>13</td>\n",
              "      <td>Montréal</td>\n",
              "      <td>Oui</td>\n",
              "      <td>False</td>\n",
              "      <td>Soutien personnel, familial et communautaire</td>\n",
              "    </tr>\n",
              "  </tbody>\n",
              "</table>\n",
              "</div>"
            ],
            "text/plain": [
              "   CallDateAndTimeStart  ...                              AIRSNeedCategory\n",
              "1            2018-04-01  ...                                  Alimentation\n",
              "3            2018-04-01  ...                                  Alimentation\n",
              "4            2018-04-01  ...                                  Alimentation\n",
              "9            2018-04-01  ...                             Sports et loisirs\n",
              "10           2018-04-01  ...  Soutien personnel, familial et communautaire\n",
              "\n",
              "[5 rows x 6 columns]"
            ]
          },
          "metadata": {
            "tags": []
          },
          "execution_count": 18
        }
      ]
    },
    {
      "cell_type": "code",
      "metadata": {
        "id": "6zc4YNxjKwDJ",
        "outputId": "5d8ab7df-0463-4de1-941c-cd63439da38d",
        "colab": {
          "base_uri": "https://localhost:8080/"
        }
      },
      "source": [
        "new_df['Centraide Grand Montréal'].value_counts()"
      ],
      "execution_count": 19,
      "outputs": [
        {
          "output_type": "execute_result",
          "data": {
            "text/plain": [
              "Montréal                       91517\n",
              "Laval                          11582\n",
              "Agglomération de Longueuil      7005\n",
              "Région Sud                      1935\n",
              "Centraide Richelieu-Yamaska      230\n",
              "Inconnu                          146\n",
              "Name: Centraide Grand Montréal, dtype: int64"
            ]
          },
          "metadata": {
            "tags": []
          },
          "execution_count": 19
        }
      ]
    },
    {
      "cell_type": "code",
      "metadata": {
        "id": "xrACMv3JK1c1",
        "outputId": "0edab3f2-70bc-4273-a721-f6267cbc31b0",
        "colab": {
          "base_uri": "https://localhost:8080/"
        }
      },
      "source": [
        "new_df['Territoire 211 Grand Montréal'].value_counts()"
      ],
      "execution_count": 20,
      "outputs": [
        {
          "output_type": "execute_result",
          "data": {
            "text/plain": [
              "Oui                120825\n",
              "Hors territoire      1320\n",
              "ancien                655\n",
              "Inconnu               146\n",
              "non                    12\n",
              "Name: Territoire 211 Grand Montréal, dtype: int64"
            ]
          },
          "metadata": {
            "tags": []
          },
          "execution_count": 20
        }
      ]
    },
    {
      "cell_type": "code",
      "metadata": {
        "id": "QtqCGWsCblOU",
        "outputId": "8e3bbc74-4a86-45e7-cbe4-a2e406da80e2",
        "colab": {
          "base_uri": "https://localhost:8080/"
        }
      },
      "source": [
        "new_df['NeedWasUnmet'].value_counts()"
      ],
      "execution_count": 21,
      "outputs": [
        {
          "output_type": "execute_result",
          "data": {
            "text/plain": [
              "False    116740\n",
              "True       2725\n",
              "Name: NeedWasUnmet, dtype: int64"
            ]
          },
          "metadata": {
            "tags": []
          },
          "execution_count": 21
        }
      ]
    },
    {
      "cell_type": "code",
      "metadata": {
        "id": "2yw2iMZBbxtn",
        "outputId": "7b261818-88f3-40ab-a895-2f38963dac57",
        "colab": {
          "base_uri": "https://localhost:8080/"
        }
      },
      "source": [
        "new_df['AIRSNeedCategory'].value_counts()"
      ],
      "execution_count": 22,
      "outputs": [
        {
          "output_type": "execute_result",
          "data": {
            "text/plain": [
              "Alimentation                                                                           19514\n",
              "Logement                                                                               18144\n",
              "Bénévolat et dons                                                                      17957\n",
              "Soutien personnel, familial et communautaire                                           12161\n",
              "Santé mentale et dépendances                                                            8830\n",
              "Justice, consommation et sécurité publique                                              8761\n",
              "Santé                                                                                   7150\n",
              "Emploi et revenu                                                                        6641\n",
              "Information et aiguillage                                                               5486\n",
              "Services gouvernementaux, développement économique et associations professionnelles     3653\n",
              "Assistance matérielle                                                                   3388\n",
              "Transport                                                                               2628\n",
              "Sports et loisirs                                                                       2584\n",
              "Éducation                                                                               1927\n",
              "Name: AIRSNeedCategory, dtype: int64"
            ]
          },
          "metadata": {
            "tags": []
          },
          "execution_count": 22
        }
      ]
    },
    {
      "cell_type": "code",
      "metadata": {
        "id": "QUiz6ByPbxkQ",
        "outputId": "da7b9d77-6c5b-4c28-d669-561f8e3a64cf",
        "colab": {
          "base_uri": "https://localhost:8080/"
        }
      },
      "source": [
        "new_df['Heure'].value_counts()"
      ],
      "execution_count": 23,
      "outputs": [
        {
          "output_type": "execute_result",
          "data": {
            "text/plain": [
              "10    16966\n",
              "11    16187\n",
              "13    15594\n",
              "14    15049\n",
              "15    13645\n",
              "9     13433\n",
              "12    11929\n",
              "16     9366\n",
              "8      5803\n",
              "17     4933\n",
              "18       36\n",
              "0        21\n",
              "1        16\n",
              "7        15\n",
              "19       12\n",
              "2        11\n",
              "3         7\n",
              "20        2\n",
              "Name: Heure, dtype: int64"
            ]
          },
          "metadata": {
            "tags": []
          },
          "execution_count": 23
        }
      ]
    },
    {
      "cell_type": "code",
      "metadata": {
        "id": "YRUL2SMyK2n5",
        "outputId": "289b2956-4181-49de-9c8b-d0d5b4372994",
        "colab": {
          "base_uri": "https://localhost:8080/"
        }
      },
      "source": [
        "new_df.columns[new_df.isna().any()].tolist(), len(new_df.columns[new_df.isna().any()].tolist())"
      ],
      "execution_count": 24,
      "outputs": [
        {
          "output_type": "execute_result",
          "data": {
            "text/plain": [
              "(['Centraide Grand Montréal',\n",
              "  'Territoire 211 Grand Montréal',\n",
              "  'NeedWasUnmet',\n",
              "  'AIRSNeedCategory'],\n",
              " 4)"
            ]
          },
          "metadata": {
            "tags": []
          },
          "execution_count": 24
        }
      ]
    },
    {
      "cell_type": "code",
      "metadata": {
        "id": "9IMKpbB6LGE6",
        "outputId": "4c97b4dc-0d6c-4d84-986d-d39f5728af3f",
        "colab": {
          "base_uri": "https://localhost:8080/"
        }
      },
      "source": [
        "new_df.shape"
      ],
      "execution_count": 25,
      "outputs": [
        {
          "output_type": "execute_result",
          "data": {
            "text/plain": [
              "(123025, 6)"
            ]
          },
          "metadata": {
            "tags": []
          },
          "execution_count": 25
        }
      ]
    },
    {
      "cell_type": "code",
      "metadata": {
        "id": "w14za7yULJhB",
        "outputId": "479dfc35-24ae-4b5a-8af2-74acafeea4c5",
        "colab": {
          "base_uri": "https://localhost:8080/"
        }
      },
      "source": [
        "new_df.dropna(inplace=True, axis=0)"
      ],
      "execution_count": 26,
      "outputs": [
        {
          "output_type": "stream",
          "text": [
            "/usr/local/lib/python3.6/dist-packages/ipykernel_launcher.py:1: SettingWithCopyWarning: \n",
            "A value is trying to be set on a copy of a slice from a DataFrame\n",
            "\n",
            "See the caveats in the documentation: https://pandas.pydata.org/pandas-docs/stable/user_guide/indexing.html#returning-a-view-versus-a-copy\n",
            "  \"\"\"Entry point for launching an IPython kernel.\n"
          ],
          "name": "stderr"
        }
      ]
    },
    {
      "cell_type": "code",
      "metadata": {
        "id": "gks5a_87LO7_",
        "outputId": "e64ed89a-5a43-4270-aadf-9e619bd15942",
        "colab": {
          "base_uri": "https://localhost:8080/"
        }
      },
      "source": [
        "new_df.shape"
      ],
      "execution_count": 27,
      "outputs": [
        {
          "output_type": "execute_result",
          "data": {
            "text/plain": [
              "(108915, 6)"
            ]
          },
          "metadata": {
            "tags": []
          },
          "execution_count": 27
        }
      ]
    },
    {
      "cell_type": "code",
      "metadata": {
        "id": "JJdYetRJLbYI"
      },
      "source": [
        "# new_df.resample('D').sum()['AIRSNeedCategory']"
      ],
      "execution_count": 28,
      "outputs": []
    },
    {
      "cell_type": "code",
      "metadata": {
        "id": "BJ2d3bhgLhzc",
        "outputId": "43ce7912-4d5e-4d7c-9e50-506fc4950813",
        "colab": {
          "base_uri": "https://localhost:8080/",
          "height": 424
        }
      },
      "source": [
        "new_df.groupby('CallDateAndTimeStart', as_index=False).sum()"
      ],
      "execution_count": 29,
      "outputs": [
        {
          "output_type": "execute_result",
          "data": {
            "text/html": [
              "<div>\n",
              "<style scoped>\n",
              "    .dataframe tbody tr th:only-of-type {\n",
              "        vertical-align: middle;\n",
              "    }\n",
              "\n",
              "    .dataframe tbody tr th {\n",
              "        vertical-align: top;\n",
              "    }\n",
              "\n",
              "    .dataframe thead th {\n",
              "        text-align: right;\n",
              "    }\n",
              "</style>\n",
              "<table border=\"1\" class=\"dataframe\">\n",
              "  <thead>\n",
              "    <tr style=\"text-align: right;\">\n",
              "      <th></th>\n",
              "      <th>CallDateAndTimeStart</th>\n",
              "      <th>Heure</th>\n",
              "    </tr>\n",
              "  </thead>\n",
              "  <tbody>\n",
              "    <tr>\n",
              "      <th>0</th>\n",
              "      <td>2018-04-01</td>\n",
              "      <td>91</td>\n",
              "    </tr>\n",
              "    <tr>\n",
              "      <th>1</th>\n",
              "      <td>2018-04-02</td>\n",
              "      <td>443</td>\n",
              "    </tr>\n",
              "    <tr>\n",
              "      <th>2</th>\n",
              "      <td>2018-04-03</td>\n",
              "      <td>1121</td>\n",
              "    </tr>\n",
              "    <tr>\n",
              "      <th>3</th>\n",
              "      <td>2018-04-04</td>\n",
              "      <td>1691</td>\n",
              "    </tr>\n",
              "    <tr>\n",
              "      <th>4</th>\n",
              "      <td>2018-04-05</td>\n",
              "      <td>1247</td>\n",
              "    </tr>\n",
              "    <tr>\n",
              "      <th>...</th>\n",
              "      <td>...</td>\n",
              "      <td>...</td>\n",
              "    </tr>\n",
              "    <tr>\n",
              "      <th>879</th>\n",
              "      <td>2020-08-27</td>\n",
              "      <td>1707</td>\n",
              "    </tr>\n",
              "    <tr>\n",
              "      <th>880</th>\n",
              "      <td>2020-08-28</td>\n",
              "      <td>1613</td>\n",
              "    </tr>\n",
              "    <tr>\n",
              "      <th>881</th>\n",
              "      <td>2020-08-29</td>\n",
              "      <td>620</td>\n",
              "    </tr>\n",
              "    <tr>\n",
              "      <th>882</th>\n",
              "      <td>2020-08-30</td>\n",
              "      <td>398</td>\n",
              "    </tr>\n",
              "    <tr>\n",
              "      <th>883</th>\n",
              "      <td>2020-08-31</td>\n",
              "      <td>2166</td>\n",
              "    </tr>\n",
              "  </tbody>\n",
              "</table>\n",
              "<p>884 rows × 2 columns</p>\n",
              "</div>"
            ],
            "text/plain": [
              "    CallDateAndTimeStart  Heure\n",
              "0             2018-04-01     91\n",
              "1             2018-04-02    443\n",
              "2             2018-04-03   1121\n",
              "3             2018-04-04   1691\n",
              "4             2018-04-05   1247\n",
              "..                   ...    ...\n",
              "879           2020-08-27   1707\n",
              "880           2020-08-28   1613\n",
              "881           2020-08-29    620\n",
              "882           2020-08-30    398\n",
              "883           2020-08-31   2166\n",
              "\n",
              "[884 rows x 2 columns]"
            ]
          },
          "metadata": {
            "tags": []
          },
          "execution_count": 29
        }
      ]
    },
    {
      "cell_type": "code",
      "metadata": {
        "id": "zvmHgH_tyw6g",
        "outputId": "7c17ec73-64ef-465d-bdbc-c049ba130989",
        "colab": {
          "base_uri": "https://localhost:8080/",
          "height": 315
        }
      },
      "source": [
        "new_df['CallDateAndTime'] = new_df[['CallDateAndTimeStart', 'Heure']].apply(lambda x: x[0] + pd.to_timedelta(x[1], unit='hour'), axis=1)\n",
        "new_df.head()"
      ],
      "execution_count": 30,
      "outputs": [
        {
          "output_type": "stream",
          "text": [
            "/usr/local/lib/python3.6/dist-packages/ipykernel_launcher.py:1: SettingWithCopyWarning: \n",
            "A value is trying to be set on a copy of a slice from a DataFrame.\n",
            "Try using .loc[row_indexer,col_indexer] = value instead\n",
            "\n",
            "See the caveats in the documentation: https://pandas.pydata.org/pandas-docs/stable/user_guide/indexing.html#returning-a-view-versus-a-copy\n",
            "  \"\"\"Entry point for launching an IPython kernel.\n"
          ],
          "name": "stderr"
        },
        {
          "output_type": "execute_result",
          "data": {
            "text/html": [
              "<div>\n",
              "<style scoped>\n",
              "    .dataframe tbody tr th:only-of-type {\n",
              "        vertical-align: middle;\n",
              "    }\n",
              "\n",
              "    .dataframe tbody tr th {\n",
              "        vertical-align: top;\n",
              "    }\n",
              "\n",
              "    .dataframe thead th {\n",
              "        text-align: right;\n",
              "    }\n",
              "</style>\n",
              "<table border=\"1\" class=\"dataframe\">\n",
              "  <thead>\n",
              "    <tr style=\"text-align: right;\">\n",
              "      <th></th>\n",
              "      <th>CallDateAndTimeStart</th>\n",
              "      <th>Heure</th>\n",
              "      <th>Centraide Grand Montréal</th>\n",
              "      <th>Territoire 211 Grand Montréal</th>\n",
              "      <th>NeedWasUnmet</th>\n",
              "      <th>AIRSNeedCategory</th>\n",
              "      <th>CallDateAndTime</th>\n",
              "    </tr>\n",
              "  </thead>\n",
              "  <tbody>\n",
              "    <tr>\n",
              "      <th>1</th>\n",
              "      <td>2018-04-01</td>\n",
              "      <td>11</td>\n",
              "      <td>Montréal</td>\n",
              "      <td>Oui</td>\n",
              "      <td>False</td>\n",
              "      <td>Alimentation</td>\n",
              "      <td>2018-04-01 11:00:00</td>\n",
              "    </tr>\n",
              "    <tr>\n",
              "      <th>3</th>\n",
              "      <td>2018-04-01</td>\n",
              "      <td>12</td>\n",
              "      <td>Montréal</td>\n",
              "      <td>Oui</td>\n",
              "      <td>False</td>\n",
              "      <td>Alimentation</td>\n",
              "      <td>2018-04-01 12:00:00</td>\n",
              "    </tr>\n",
              "    <tr>\n",
              "      <th>4</th>\n",
              "      <td>2018-04-01</td>\n",
              "      <td>12</td>\n",
              "      <td>Montréal</td>\n",
              "      <td>Oui</td>\n",
              "      <td>False</td>\n",
              "      <td>Alimentation</td>\n",
              "      <td>2018-04-01 12:00:00</td>\n",
              "    </tr>\n",
              "    <tr>\n",
              "      <th>9</th>\n",
              "      <td>2018-04-01</td>\n",
              "      <td>13</td>\n",
              "      <td>Montréal</td>\n",
              "      <td>Oui</td>\n",
              "      <td>False</td>\n",
              "      <td>Sports et loisirs</td>\n",
              "      <td>2018-04-01 13:00:00</td>\n",
              "    </tr>\n",
              "    <tr>\n",
              "      <th>10</th>\n",
              "      <td>2018-04-01</td>\n",
              "      <td>13</td>\n",
              "      <td>Montréal</td>\n",
              "      <td>Oui</td>\n",
              "      <td>False</td>\n",
              "      <td>Soutien personnel, familial et communautaire</td>\n",
              "      <td>2018-04-01 13:00:00</td>\n",
              "    </tr>\n",
              "  </tbody>\n",
              "</table>\n",
              "</div>"
            ],
            "text/plain": [
              "   CallDateAndTimeStart  ...     CallDateAndTime\n",
              "1            2018-04-01  ... 2018-04-01 11:00:00\n",
              "3            2018-04-01  ... 2018-04-01 12:00:00\n",
              "4            2018-04-01  ... 2018-04-01 12:00:00\n",
              "9            2018-04-01  ... 2018-04-01 13:00:00\n",
              "10           2018-04-01  ... 2018-04-01 13:00:00\n",
              "\n",
              "[5 rows x 7 columns]"
            ]
          },
          "metadata": {
            "tags": []
          },
          "execution_count": 30
        }
      ]
    },
    {
      "cell_type": "code",
      "metadata": {
        "id": "CeRXv1Jhy-Ch",
        "outputId": "ed11f4a5-fd47-4cb4-8e50-89f356a22ff0",
        "colab": {
          "base_uri": "https://localhost:8080/"
        }
      },
      "source": [
        "new_df.shape"
      ],
      "execution_count": 31,
      "outputs": [
        {
          "output_type": "execute_result",
          "data": {
            "text/plain": [
              "(108915, 7)"
            ]
          },
          "metadata": {
            "tags": []
          },
          "execution_count": 31
        }
      ]
    },
    {
      "cell_type": "markdown",
      "metadata": {
        "id": "S0p0aEEnEqAK"
      },
      "source": [
        "## Prepare Data for ML"
      ]
    },
    {
      "cell_type": "code",
      "metadata": {
        "id": "Ryq_jjGvzOy1",
        "outputId": "02c8b49c-2d31-4aa6-e454-9eeebfa0467b",
        "colab": {
          "base_uri": "https://localhost:8080/",
          "height": 206
        }
      },
      "source": [
        "fre = new_df.groupby(['CallDateAndTime', 'AIRSNeedCategory'], ).size().reset_index()\n",
        "fre.columns = ['CallDateAndTime', 'AIRSNeedCategory', 'Frequency']\n",
        "fre.head()"
      ],
      "execution_count": 32,
      "outputs": [
        {
          "output_type": "execute_result",
          "data": {
            "text/html": [
              "<div>\n",
              "<style scoped>\n",
              "    .dataframe tbody tr th:only-of-type {\n",
              "        vertical-align: middle;\n",
              "    }\n",
              "\n",
              "    .dataframe tbody tr th {\n",
              "        vertical-align: top;\n",
              "    }\n",
              "\n",
              "    .dataframe thead th {\n",
              "        text-align: right;\n",
              "    }\n",
              "</style>\n",
              "<table border=\"1\" class=\"dataframe\">\n",
              "  <thead>\n",
              "    <tr style=\"text-align: right;\">\n",
              "      <th></th>\n",
              "      <th>CallDateAndTime</th>\n",
              "      <th>AIRSNeedCategory</th>\n",
              "      <th>Frequency</th>\n",
              "    </tr>\n",
              "  </thead>\n",
              "  <tbody>\n",
              "    <tr>\n",
              "      <th>0</th>\n",
              "      <td>2018-04-01 11:00:00</td>\n",
              "      <td>Alimentation</td>\n",
              "      <td>1</td>\n",
              "    </tr>\n",
              "    <tr>\n",
              "      <th>1</th>\n",
              "      <td>2018-04-01 12:00:00</td>\n",
              "      <td>Alimentation</td>\n",
              "      <td>2</td>\n",
              "    </tr>\n",
              "    <tr>\n",
              "      <th>2</th>\n",
              "      <td>2018-04-01 13:00:00</td>\n",
              "      <td>Soutien personnel, familial et communautaire</td>\n",
              "      <td>1</td>\n",
              "    </tr>\n",
              "    <tr>\n",
              "      <th>3</th>\n",
              "      <td>2018-04-01 13:00:00</td>\n",
              "      <td>Sports et loisirs</td>\n",
              "      <td>2</td>\n",
              "    </tr>\n",
              "    <tr>\n",
              "      <th>4</th>\n",
              "      <td>2018-04-01 17:00:00</td>\n",
              "      <td>Logement</td>\n",
              "      <td>1</td>\n",
              "    </tr>\n",
              "  </tbody>\n",
              "</table>\n",
              "</div>"
            ],
            "text/plain": [
              "      CallDateAndTime                              AIRSNeedCategory  Frequency\n",
              "0 2018-04-01 11:00:00                                  Alimentation          1\n",
              "1 2018-04-01 12:00:00                                  Alimentation          2\n",
              "2 2018-04-01 13:00:00  Soutien personnel, familial et communautaire          1\n",
              "3 2018-04-01 13:00:00                             Sports et loisirs          2\n",
              "4 2018-04-01 17:00:00                                      Logement          1"
            ]
          },
          "metadata": {
            "tags": []
          },
          "execution_count": 32
        }
      ]
    },
    {
      "cell_type": "markdown",
      "metadata": {
        "id": "KWehXf9kE4Yn"
      },
      "source": [
        "### Add Features"
      ]
    },
    {
      "cell_type": "code",
      "metadata": {
        "id": "6RU7hw0y9Nju"
      },
      "source": [
        "fre['TimeOfDay'] = fre['CallDateAndTime'].dt.hour\n",
        "fre['DayofMonth'] = fre['CallDateAndTime'].dt.month\n",
        "fre['DayOfWeek'] = fre['CallDateAndTime'].dt.day_name()\n",
        "fre['DayOfYear'] = fre['CallDateAndTime'].dt.dayofyear"
      ],
      "execution_count": 33,
      "outputs": []
    },
    {
      "cell_type": "code",
      "metadata": {
        "id": "w1T6WC-X_G5l",
        "outputId": "494332f8-988d-42c5-a5c0-1f4568e5df5c",
        "colab": {
          "base_uri": "https://localhost:8080/",
          "height": 206
        }
      },
      "source": [
        "fre.head()"
      ],
      "execution_count": 34,
      "outputs": [
        {
          "output_type": "execute_result",
          "data": {
            "text/html": [
              "<div>\n",
              "<style scoped>\n",
              "    .dataframe tbody tr th:only-of-type {\n",
              "        vertical-align: middle;\n",
              "    }\n",
              "\n",
              "    .dataframe tbody tr th {\n",
              "        vertical-align: top;\n",
              "    }\n",
              "\n",
              "    .dataframe thead th {\n",
              "        text-align: right;\n",
              "    }\n",
              "</style>\n",
              "<table border=\"1\" class=\"dataframe\">\n",
              "  <thead>\n",
              "    <tr style=\"text-align: right;\">\n",
              "      <th></th>\n",
              "      <th>CallDateAndTime</th>\n",
              "      <th>AIRSNeedCategory</th>\n",
              "      <th>Frequency</th>\n",
              "      <th>TimeOfDay</th>\n",
              "      <th>DayofMonth</th>\n",
              "      <th>DayOfWeek</th>\n",
              "      <th>DayOfYear</th>\n",
              "    </tr>\n",
              "  </thead>\n",
              "  <tbody>\n",
              "    <tr>\n",
              "      <th>0</th>\n",
              "      <td>2018-04-01 11:00:00</td>\n",
              "      <td>Alimentation</td>\n",
              "      <td>1</td>\n",
              "      <td>11</td>\n",
              "      <td>4</td>\n",
              "      <td>Sunday</td>\n",
              "      <td>91</td>\n",
              "    </tr>\n",
              "    <tr>\n",
              "      <th>1</th>\n",
              "      <td>2018-04-01 12:00:00</td>\n",
              "      <td>Alimentation</td>\n",
              "      <td>2</td>\n",
              "      <td>12</td>\n",
              "      <td>4</td>\n",
              "      <td>Sunday</td>\n",
              "      <td>91</td>\n",
              "    </tr>\n",
              "    <tr>\n",
              "      <th>2</th>\n",
              "      <td>2018-04-01 13:00:00</td>\n",
              "      <td>Soutien personnel, familial et communautaire</td>\n",
              "      <td>1</td>\n",
              "      <td>13</td>\n",
              "      <td>4</td>\n",
              "      <td>Sunday</td>\n",
              "      <td>91</td>\n",
              "    </tr>\n",
              "    <tr>\n",
              "      <th>3</th>\n",
              "      <td>2018-04-01 13:00:00</td>\n",
              "      <td>Sports et loisirs</td>\n",
              "      <td>2</td>\n",
              "      <td>13</td>\n",
              "      <td>4</td>\n",
              "      <td>Sunday</td>\n",
              "      <td>91</td>\n",
              "    </tr>\n",
              "    <tr>\n",
              "      <th>4</th>\n",
              "      <td>2018-04-01 17:00:00</td>\n",
              "      <td>Logement</td>\n",
              "      <td>1</td>\n",
              "      <td>17</td>\n",
              "      <td>4</td>\n",
              "      <td>Sunday</td>\n",
              "      <td>91</td>\n",
              "    </tr>\n",
              "  </tbody>\n",
              "</table>\n",
              "</div>"
            ],
            "text/plain": [
              "      CallDateAndTime  ... DayOfYear\n",
              "0 2018-04-01 11:00:00  ...        91\n",
              "1 2018-04-01 12:00:00  ...        91\n",
              "2 2018-04-01 13:00:00  ...        91\n",
              "3 2018-04-01 13:00:00  ...        91\n",
              "4 2018-04-01 17:00:00  ...        91\n",
              "\n",
              "[5 rows x 7 columns]"
            ]
          },
          "metadata": {
            "tags": []
          },
          "execution_count": 34
        }
      ]
    },
    {
      "cell_type": "code",
      "metadata": {
        "id": "gXkHLZXpLnbm"
      },
      "source": [
        "fre.set_index('CallDateAndTime', inplace=True)"
      ],
      "execution_count": 35,
      "outputs": []
    },
    {
      "cell_type": "code",
      "metadata": {
        "id": "-zJHVVJwGd18"
      },
      "source": [
        "call = fre.drop('Frequency', axis=1)\n",
        "call_labels = fre['Frequency'].copy()"
      ],
      "execution_count": 36,
      "outputs": []
    },
    {
      "cell_type": "code",
      "metadata": {
        "id": "w4nYS2t9GdeT",
        "outputId": "f7f2d828-efa0-401f-b835-511f28c84d08",
        "colab": {
          "base_uri": "https://localhost:8080/"
        }
      },
      "source": [
        "call.shape"
      ],
      "execution_count": 37,
      "outputs": [
        {
          "output_type": "execute_result",
          "data": {
            "text/plain": [
              "(47403, 5)"
            ]
          },
          "metadata": {
            "tags": []
          },
          "execution_count": 37
        }
      ]
    },
    {
      "cell_type": "markdown",
      "metadata": {
        "id": "aG3EtYsfFCgm"
      },
      "source": [
        "### Handle Categorical Attributes"
      ]
    },
    {
      "cell_type": "code",
      "metadata": {
        "id": "8Yc8o9uHHelS"
      },
      "source": [
        "from sklearn.preprocessing import OrdinalEncoder, OneHotEncoder"
      ],
      "execution_count": 38,
      "outputs": []
    },
    {
      "cell_type": "code",
      "metadata": {
        "id": "aDS1wmq7Hehw"
      },
      "source": [
        "call_cat = call[['AIRSNeedCategory', 'DayOfWeek']]"
      ],
      "execution_count": 39,
      "outputs": []
    },
    {
      "cell_type": "code",
      "metadata": {
        "id": "tauwYQAoHefr",
        "outputId": "d6ef6477-cf94-451b-8174-446f3f218737",
        "colab": {
          "base_uri": "https://localhost:8080/"
        }
      },
      "source": [
        "ordinal_encoder = OrdinalEncoder()\n",
        "call_cat_encoded = ordinal_encoder.fit_transform(call_cat)\n",
        "call_cat_encoded[:10]"
      ],
      "execution_count": 40,
      "outputs": [
        {
          "output_type": "execute_result",
          "data": {
            "text/plain": [
              "array([[ 0.,  3.],\n",
              "       [ 0.,  3.],\n",
              "       [10.,  3.],\n",
              "       [11.,  3.],\n",
              "       [ 6.,  3.],\n",
              "       [ 3.,  1.],\n",
              "       [ 6.,  1.],\n",
              "       [ 2.,  1.],\n",
              "       [ 7.,  1.],\n",
              "       [ 2.,  1.]])"
            ]
          },
          "metadata": {
            "tags": []
          },
          "execution_count": 40
        }
      ]
    },
    {
      "cell_type": "code",
      "metadata": {
        "id": "2qXzVgpYHedR",
        "outputId": "7d82037d-f6d5-4d3d-b78f-faf3e227df43",
        "colab": {
          "base_uri": "https://localhost:8080/"
        }
      },
      "source": [
        "ordinal_encoder.categories_"
      ],
      "execution_count": 41,
      "outputs": [
        {
          "output_type": "execute_result",
          "data": {
            "text/plain": [
              "[array(['Alimentation', 'Assistance matérielle', 'Bénévolat et dons',\n",
              "        'Emploi et revenu', 'Information et aiguillage',\n",
              "        'Justice, consommation et sécurité publique', 'Logement', 'Santé',\n",
              "        'Santé mentale et dépendances',\n",
              "        'Services gouvernementaux, développement économique et associations professionnelles',\n",
              "        'Soutien personnel, familial et communautaire',\n",
              "        'Sports et loisirs', 'Transport', 'Éducation'], dtype=object),\n",
              " array(['Friday', 'Monday', 'Saturday', 'Sunday', 'Thursday', 'Tuesday',\n",
              "        'Wednesday'], dtype=object)]"
            ]
          },
          "metadata": {
            "tags": []
          },
          "execution_count": 41
        }
      ]
    },
    {
      "cell_type": "code",
      "metadata": {
        "id": "fxLw41HXHeZ-",
        "outputId": "1eb4fa5c-74fd-4aaf-fd77-5469d4ce1553",
        "colab": {
          "base_uri": "https://localhost:8080/"
        }
      },
      "source": [
        "# One hot encoding\n",
        "cat_encoder = OneHotEncoder()\n",
        "call_cat_1hot = cat_encoder.fit_transform(call_cat)\n",
        "call_cat_1hot"
      ],
      "execution_count": 42,
      "outputs": [
        {
          "output_type": "execute_result",
          "data": {
            "text/plain": [
              "<47403x21 sparse matrix of type '<class 'numpy.float64'>'\n",
              "\twith 94806 stored elements in Compressed Sparse Row format>"
            ]
          },
          "metadata": {
            "tags": []
          },
          "execution_count": 42
        }
      ]
    },
    {
      "cell_type": "code",
      "metadata": {
        "id": "fR3weYaMJBML",
        "outputId": "4d41830e-016b-4cdb-f074-b2c436ab4689",
        "colab": {
          "base_uri": "https://localhost:8080/"
        }
      },
      "source": [
        "cat_encoder.categories_"
      ],
      "execution_count": 43,
      "outputs": [
        {
          "output_type": "execute_result",
          "data": {
            "text/plain": [
              "[array(['Alimentation', 'Assistance matérielle', 'Bénévolat et dons',\n",
              "        'Emploi et revenu', 'Information et aiguillage',\n",
              "        'Justice, consommation et sécurité publique', 'Logement', 'Santé',\n",
              "        'Santé mentale et dépendances',\n",
              "        'Services gouvernementaux, développement économique et associations professionnelles',\n",
              "        'Soutien personnel, familial et communautaire',\n",
              "        'Sports et loisirs', 'Transport', 'Éducation'], dtype=object),\n",
              " array(['Friday', 'Monday', 'Saturday', 'Sunday', 'Thursday', 'Tuesday',\n",
              "        'Wednesday'], dtype=object)]"
            ]
          },
          "metadata": {
            "tags": []
          },
          "execution_count": 43
        }
      ]
    },
    {
      "cell_type": "markdown",
      "metadata": {
        "id": "tmhMDVGtJcpz"
      },
      "source": [
        "### Transformation Pipelines"
      ]
    },
    {
      "cell_type": "code",
      "metadata": {
        "id": "wdlSOy3rJiBp"
      },
      "source": [
        "from sklearn.pipeline import Pipeline\n",
        "from sklearn.preprocessing import StandardScaler"
      ],
      "execution_count": 44,
      "outputs": []
    },
    {
      "cell_type": "code",
      "metadata": {
        "id": "gMzJyfn0Jh3n"
      },
      "source": [
        "num_pipeline = Pipeline([\n",
        "                         ('std_scaler', StandardScaler())\n",
        "])"
      ],
      "execution_count": 45,
      "outputs": []
    },
    {
      "cell_type": "code",
      "metadata": {
        "id": "c_X_Qc3pJhrl"
      },
      "source": [
        "from sklearn.compose import ColumnTransformer"
      ],
      "execution_count": 46,
      "outputs": []
    },
    {
      "cell_type": "code",
      "metadata": {
        "id": "O09gaszRLS4j",
        "outputId": "fc593104-ab7f-4a4c-a2a8-c026a94ccc4b",
        "colab": {
          "base_uri": "https://localhost:8080/",
          "height": 237
        }
      },
      "source": [
        "call.head()"
      ],
      "execution_count": 47,
      "outputs": [
        {
          "output_type": "execute_result",
          "data": {
            "text/html": [
              "<div>\n",
              "<style scoped>\n",
              "    .dataframe tbody tr th:only-of-type {\n",
              "        vertical-align: middle;\n",
              "    }\n",
              "\n",
              "    .dataframe tbody tr th {\n",
              "        vertical-align: top;\n",
              "    }\n",
              "\n",
              "    .dataframe thead th {\n",
              "        text-align: right;\n",
              "    }\n",
              "</style>\n",
              "<table border=\"1\" class=\"dataframe\">\n",
              "  <thead>\n",
              "    <tr style=\"text-align: right;\">\n",
              "      <th></th>\n",
              "      <th>AIRSNeedCategory</th>\n",
              "      <th>TimeOfDay</th>\n",
              "      <th>DayofMonth</th>\n",
              "      <th>DayOfWeek</th>\n",
              "      <th>DayOfYear</th>\n",
              "    </tr>\n",
              "    <tr>\n",
              "      <th>CallDateAndTime</th>\n",
              "      <th></th>\n",
              "      <th></th>\n",
              "      <th></th>\n",
              "      <th></th>\n",
              "      <th></th>\n",
              "    </tr>\n",
              "  </thead>\n",
              "  <tbody>\n",
              "    <tr>\n",
              "      <th>2018-04-01 11:00:00</th>\n",
              "      <td>Alimentation</td>\n",
              "      <td>11</td>\n",
              "      <td>4</td>\n",
              "      <td>Sunday</td>\n",
              "      <td>91</td>\n",
              "    </tr>\n",
              "    <tr>\n",
              "      <th>2018-04-01 12:00:00</th>\n",
              "      <td>Alimentation</td>\n",
              "      <td>12</td>\n",
              "      <td>4</td>\n",
              "      <td>Sunday</td>\n",
              "      <td>91</td>\n",
              "    </tr>\n",
              "    <tr>\n",
              "      <th>2018-04-01 13:00:00</th>\n",
              "      <td>Soutien personnel, familial et communautaire</td>\n",
              "      <td>13</td>\n",
              "      <td>4</td>\n",
              "      <td>Sunday</td>\n",
              "      <td>91</td>\n",
              "    </tr>\n",
              "    <tr>\n",
              "      <th>2018-04-01 13:00:00</th>\n",
              "      <td>Sports et loisirs</td>\n",
              "      <td>13</td>\n",
              "      <td>4</td>\n",
              "      <td>Sunday</td>\n",
              "      <td>91</td>\n",
              "    </tr>\n",
              "    <tr>\n",
              "      <th>2018-04-01 17:00:00</th>\n",
              "      <td>Logement</td>\n",
              "      <td>17</td>\n",
              "      <td>4</td>\n",
              "      <td>Sunday</td>\n",
              "      <td>91</td>\n",
              "    </tr>\n",
              "  </tbody>\n",
              "</table>\n",
              "</div>"
            ],
            "text/plain": [
              "                                                 AIRSNeedCategory  ...  DayOfYear\n",
              "CallDateAndTime                                                    ...           \n",
              "2018-04-01 11:00:00                                  Alimentation  ...         91\n",
              "2018-04-01 12:00:00                                  Alimentation  ...         91\n",
              "2018-04-01 13:00:00  Soutien personnel, familial et communautaire  ...         91\n",
              "2018-04-01 13:00:00                             Sports et loisirs  ...         91\n",
              "2018-04-01 17:00:00                                      Logement  ...         91\n",
              "\n",
              "[5 rows x 5 columns]"
            ]
          },
          "metadata": {
            "tags": []
          },
          "execution_count": 47
        }
      ]
    },
    {
      "cell_type": "code",
      "metadata": {
        "id": "q_mXZimsKlOh",
        "outputId": "5243ca89-b886-486f-e3ce-92d4fdb4b334",
        "colab": {
          "base_uri": "https://localhost:8080/"
        }
      },
      "source": [
        "num_attribs = list(call.drop(['AIRSNeedCategory', 'DayOfWeek'], axis=1))\n",
        "num_attribs"
      ],
      "execution_count": 48,
      "outputs": [
        {
          "output_type": "execute_result",
          "data": {
            "text/plain": [
              "['TimeOfDay', 'DayofMonth', 'DayOfYear']"
            ]
          },
          "metadata": {
            "tags": []
          },
          "execution_count": 48
        }
      ]
    },
    {
      "cell_type": "code",
      "metadata": {
        "id": "ZShHMes4KlEe"
      },
      "source": [
        "cat_attribs = ['AIRSNeedCategory', 'DayOfWeek']"
      ],
      "execution_count": 49,
      "outputs": []
    },
    {
      "cell_type": "code",
      "metadata": {
        "id": "mDgYYqPt1TO2"
      },
      "source": [
        "from sklearn import set_config\n",
        "set_config(display='diagram')"
      ],
      "execution_count": 50,
      "outputs": []
    },
    {
      "cell_type": "code",
      "metadata": {
        "id": "46k9yYno1j2F"
      },
      "source": [
        "from sklearn.ensemble import RandomForestRegressor"
      ],
      "execution_count": 51,
      "outputs": []
    },
    {
      "cell_type": "code",
      "metadata": {
        "id": "hgpwV869MU_3"
      },
      "source": [
        "forest = RandomForestRegressor(bootstrap=True, ccp_alpha=0.0, criterion='mse',\n",
        "                      max_depth=None, max_features=8, max_leaf_nodes=None,\n",
        "                      max_samples=None, min_impurity_decrease=0.0,\n",
        "                      min_impurity_split=None, min_samples_leaf=1,\n",
        "                      min_samples_split=2, min_weight_fraction_leaf=0.0,\n",
        "                      n_estimators=30, n_jobs=None, oob_score=False,\n",
        "                      random_state=42, verbose=0, warm_start=False)\n",
        "\n",
        "full_pipeline = ColumnTransformer([\n",
        "                                   ('num', num_pipeline, num_attribs),\n",
        "                                   ('cat', OneHotEncoder(), cat_attribs),\n",
        "])"
      ],
      "execution_count": 52,
      "outputs": []
    },
    {
      "cell_type": "code",
      "metadata": {
        "id": "-2ULAAYy09xJ"
      },
      "source": [
        "full_pipeline = Pipeline([\n",
        "                          ('preparation', full_pipeline),\n",
        "                          ('forest', forest)\n",
        "])"
      ],
      "execution_count": 53,
      "outputs": []
    },
    {
      "cell_type": "code",
      "metadata": {
        "id": "R9QgVKILMU5C",
        "outputId": "5a224970-b594-486c-94f2-0b2ef8d69bc6",
        "colab": {
          "base_uri": "https://localhost:8080/"
        }
      },
      "source": [
        "full_pipeline.named_steps"
      ],
      "execution_count": 54,
      "outputs": [
        {
          "output_type": "execute_result",
          "data": {
            "text/plain": [
              "{'forest': RandomForestRegressor(max_features=8, n_estimators=30, random_state=42),\n",
              " 'preparation': ColumnTransformer(transformers=[('num',\n",
              "                                  Pipeline(steps=[('std_scaler',\n",
              "                                                   StandardScaler())]),\n",
              "                                  ['TimeOfDay', 'DayofMonth', 'DayOfYear']),\n",
              "                                 ('cat', OneHotEncoder(),\n",
              "                                  ['AIRSNeedCategory', 'DayOfWeek'])])}"
            ]
          },
          "metadata": {
            "tags": []
          },
          "execution_count": 54
        }
      ]
    },
    {
      "cell_type": "code",
      "metadata": {
        "id": "63VoEsNm1r6C",
        "outputId": "5bbe9cf6-07cb-4643-a73c-2f7b12567328",
        "colab": {
          "base_uri": "https://localhost:8080/",
          "height": 165
        }
      },
      "source": [
        "full_pipeline"
      ],
      "execution_count": 55,
      "outputs": [
        {
          "output_type": "execute_result",
          "data": {
            "text/html": [
              "<style>div.sk-top-container {color: black;background-color: white;}div.sk-toggleable {background-color: white;}label.sk-toggleable__label {cursor: pointer;display: block;width: 100%;margin-bottom: 0;padding: 0.2em 0.3em;box-sizing: border-box;text-align: center;}div.sk-toggleable__content {max-height: 0;max-width: 0;overflow: hidden;text-align: left;background-color: #f0f8ff;}div.sk-toggleable__content pre {margin: 0.2em;color: black;border-radius: 0.25em;background-color: #f0f8ff;}input.sk-toggleable__control:checked~div.sk-toggleable__content {max-height: 200px;max-width: 100%;overflow: auto;}div.sk-estimator input.sk-toggleable__control:checked~label.sk-toggleable__label {background-color: #d4ebff;}div.sk-label input.sk-toggleable__control:checked~label.sk-toggleable__label {background-color: #d4ebff;}input.sk-hidden--visually {border: 0;clip: rect(1px 1px 1px 1px);clip: rect(1px, 1px, 1px, 1px);height: 1px;margin: -1px;overflow: hidden;padding: 0;position: absolute;width: 1px;}div.sk-estimator {font-family: monospace;background-color: #f0f8ff;margin: 0.25em 0.25em;border: 1px dotted black;border-radius: 0.25em;box-sizing: border-box;}div.sk-estimator:hover {background-color: #d4ebff;}div.sk-parallel-item::after {content: \"\";width: 100%;border-bottom: 1px solid gray;flex-grow: 1;}div.sk-label:hover label.sk-toggleable__label {background-color: #d4ebff;}div.sk-serial::before {content: \"\";position: absolute;border-left: 1px solid gray;box-sizing: border-box;top: 2em;bottom: 0;left: 50%;}div.sk-serial {display: flex;flex-direction: column;align-items: center;background-color: white;}div.sk-item {z-index: 1;}div.sk-parallel {display: flex;align-items: stretch;justify-content: center;background-color: white;}div.sk-parallel-item {display: flex;flex-direction: column;position: relative;background-color: white;}div.sk-parallel-item:first-child::after {align-self: flex-end;width: 50%;}div.sk-parallel-item:last-child::after {align-self: flex-start;width: 50%;}div.sk-parallel-item:only-child::after {width: 0;}div.sk-dashed-wrapped {border: 1px dashed gray;margin: 0.2em;box-sizing: border-box;padding-bottom: 0.1em;background-color: white;position: relative;}div.sk-label label {font-family: monospace;font-weight: bold;background-color: white;display: inline-block;line-height: 1.2em;}div.sk-label-container {position: relative;z-index: 2;text-align: center;}div.sk-container {display: inline-block;position: relative;}</style><div class=\"sk-top-container\"><div class=\"sk-container\"><div class=\"sk-item sk-dashed-wrapped\"><div class=\"sk-label-container\"><div class=\"sk-label sk-toggleable\"><input class=\"sk-toggleable__control sk-hidden--visually\" id=\"0ae8fc8e-f46d-45e3-820b-441ce55f57a6\" type=\"checkbox\" ><label class=\"sk-toggleable__label\" for=\"0ae8fc8e-f46d-45e3-820b-441ce55f57a6\">Pipeline</label><div class=\"sk-toggleable__content\"><pre>Pipeline(steps=[('preparation',\n",
              "                 ColumnTransformer(transformers=[('num',\n",
              "                                                  Pipeline(steps=[('std_scaler',\n",
              "                                                                   StandardScaler())]),\n",
              "                                                  ['TimeOfDay', 'DayofMonth',\n",
              "                                                   'DayOfYear']),\n",
              "                                                 ('cat', OneHotEncoder(),\n",
              "                                                  ['AIRSNeedCategory',\n",
              "                                                   'DayOfWeek'])])),\n",
              "                ('forest',\n",
              "                 RandomForestRegressor(max_features=8, n_estimators=30,\n",
              "                                       random_state=42))])</pre></div></div></div><div class=\"sk-serial\"><div class=\"sk-item sk-dashed-wrapped\"><div class=\"sk-label-container\"><div class=\"sk-label sk-toggleable\"><input class=\"sk-toggleable__control sk-hidden--visually\" id=\"c9f77129-3ba4-45f1-bdd5-f2857b9319e7\" type=\"checkbox\" ><label class=\"sk-toggleable__label\" for=\"c9f77129-3ba4-45f1-bdd5-f2857b9319e7\">preparation: ColumnTransformer</label><div class=\"sk-toggleable__content\"><pre>ColumnTransformer(transformers=[('num',\n",
              "                                 Pipeline(steps=[('std_scaler',\n",
              "                                                  StandardScaler())]),\n",
              "                                 ['TimeOfDay', 'DayofMonth', 'DayOfYear']),\n",
              "                                ('cat', OneHotEncoder(),\n",
              "                                 ['AIRSNeedCategory', 'DayOfWeek'])])</pre></div></div></div><div class=\"sk-parallel\"><div class=\"sk-parallel-item\"><div class=\"sk-item\"><div class=\"sk-label-container\"><div class=\"sk-label sk-toggleable\"><input class=\"sk-toggleable__control sk-hidden--visually\" id=\"43469038-5b14-4194-82a3-e0a9fb0907c9\" type=\"checkbox\" ><label class=\"sk-toggleable__label\" for=\"43469038-5b14-4194-82a3-e0a9fb0907c9\">num</label><div class=\"sk-toggleable__content\"><pre>['TimeOfDay', 'DayofMonth', 'DayOfYear']</pre></div></div></div><div class=\"sk-serial\"><div class=\"sk-item\"><div class=\"sk-serial\"><div class=\"sk-item\"><div class=\"sk-estimator sk-toggleable\"><input class=\"sk-toggleable__control sk-hidden--visually\" id=\"7e7eb2d2-8b02-4f92-ac91-883a1e5713cb\" type=\"checkbox\" ><label class=\"sk-toggleable__label\" for=\"7e7eb2d2-8b02-4f92-ac91-883a1e5713cb\">StandardScaler</label><div class=\"sk-toggleable__content\"><pre>StandardScaler()</pre></div></div></div></div></div></div></div></div><div class=\"sk-parallel-item\"><div class=\"sk-item\"><div class=\"sk-label-container\"><div class=\"sk-label sk-toggleable\"><input class=\"sk-toggleable__control sk-hidden--visually\" id=\"4afe7bfb-4547-4fe3-9433-12875f1c8a82\" type=\"checkbox\" ><label class=\"sk-toggleable__label\" for=\"4afe7bfb-4547-4fe3-9433-12875f1c8a82\">cat</label><div class=\"sk-toggleable__content\"><pre>['AIRSNeedCategory', 'DayOfWeek']</pre></div></div></div><div class=\"sk-serial\"><div class=\"sk-item\"><div class=\"sk-estimator sk-toggleable\"><input class=\"sk-toggleable__control sk-hidden--visually\" id=\"ee988a70-ed85-49a1-8399-48a363edde7d\" type=\"checkbox\" ><label class=\"sk-toggleable__label\" for=\"ee988a70-ed85-49a1-8399-48a363edde7d\">OneHotEncoder</label><div class=\"sk-toggleable__content\"><pre>OneHotEncoder()</pre></div></div></div></div></div></div></div></div><div class=\"sk-item\"><div class=\"sk-estimator sk-toggleable\"><input class=\"sk-toggleable__control sk-hidden--visually\" id=\"74de20b4-63e0-440f-8c16-c8f2da99af1b\" type=\"checkbox\" ><label class=\"sk-toggleable__label\" for=\"74de20b4-63e0-440f-8c16-c8f2da99af1b\">RandomForestRegressor</label><div class=\"sk-toggleable__content\"><pre>RandomForestRegressor(max_features=8, n_estimators=30, random_state=42)</pre></div></div></div></div></div></div></div>"
            ],
            "text/plain": [
              "Pipeline(steps=[('preparation',\n",
              "                 ColumnTransformer(transformers=[('num',\n",
              "                                                  Pipeline(steps=[('std_scaler',\n",
              "                                                                   StandardScaler())]),\n",
              "                                                  ['TimeOfDay', 'DayofMonth',\n",
              "                                                   'DayOfYear']),\n",
              "                                                 ('cat', OneHotEncoder(),\n",
              "                                                  ['AIRSNeedCategory',\n",
              "                                                   'DayOfWeek'])])),\n",
              "                ('forest',\n",
              "                 RandomForestRegressor(max_features=8, n_estimators=30,\n",
              "                                       random_state=42))])"
            ]
          },
          "metadata": {
            "tags": []
          },
          "execution_count": 55
        }
      ]
    },
    {
      "cell_type": "code",
      "metadata": {
        "id": "lkEQOZqoMUZv",
        "outputId": "cc69a572-9b40-4b1c-d07b-5aaa083a68e2",
        "colab": {
          "base_uri": "https://localhost:8080/",
          "height": 165
        }
      },
      "source": [
        "full_pipeline.fit(call, call_labels)"
      ],
      "execution_count": 57,
      "outputs": [
        {
          "output_type": "execute_result",
          "data": {
            "text/html": [
              "<style>div.sk-top-container {color: black;background-color: white;}div.sk-toggleable {background-color: white;}label.sk-toggleable__label {cursor: pointer;display: block;width: 100%;margin-bottom: 0;padding: 0.2em 0.3em;box-sizing: border-box;text-align: center;}div.sk-toggleable__content {max-height: 0;max-width: 0;overflow: hidden;text-align: left;background-color: #f0f8ff;}div.sk-toggleable__content pre {margin: 0.2em;color: black;border-radius: 0.25em;background-color: #f0f8ff;}input.sk-toggleable__control:checked~div.sk-toggleable__content {max-height: 200px;max-width: 100%;overflow: auto;}div.sk-estimator input.sk-toggleable__control:checked~label.sk-toggleable__label {background-color: #d4ebff;}div.sk-label input.sk-toggleable__control:checked~label.sk-toggleable__label {background-color: #d4ebff;}input.sk-hidden--visually {border: 0;clip: rect(1px 1px 1px 1px);clip: rect(1px, 1px, 1px, 1px);height: 1px;margin: -1px;overflow: hidden;padding: 0;position: absolute;width: 1px;}div.sk-estimator {font-family: monospace;background-color: #f0f8ff;margin: 0.25em 0.25em;border: 1px dotted black;border-radius: 0.25em;box-sizing: border-box;}div.sk-estimator:hover {background-color: #d4ebff;}div.sk-parallel-item::after {content: \"\";width: 100%;border-bottom: 1px solid gray;flex-grow: 1;}div.sk-label:hover label.sk-toggleable__label {background-color: #d4ebff;}div.sk-serial::before {content: \"\";position: absolute;border-left: 1px solid gray;box-sizing: border-box;top: 2em;bottom: 0;left: 50%;}div.sk-serial {display: flex;flex-direction: column;align-items: center;background-color: white;}div.sk-item {z-index: 1;}div.sk-parallel {display: flex;align-items: stretch;justify-content: center;background-color: white;}div.sk-parallel-item {display: flex;flex-direction: column;position: relative;background-color: white;}div.sk-parallel-item:first-child::after {align-self: flex-end;width: 50%;}div.sk-parallel-item:last-child::after {align-self: flex-start;width: 50%;}div.sk-parallel-item:only-child::after {width: 0;}div.sk-dashed-wrapped {border: 1px dashed gray;margin: 0.2em;box-sizing: border-box;padding-bottom: 0.1em;background-color: white;position: relative;}div.sk-label label {font-family: monospace;font-weight: bold;background-color: white;display: inline-block;line-height: 1.2em;}div.sk-label-container {position: relative;z-index: 2;text-align: center;}div.sk-container {display: inline-block;position: relative;}</style><div class=\"sk-top-container\"><div class=\"sk-container\"><div class=\"sk-item sk-dashed-wrapped\"><div class=\"sk-label-container\"><div class=\"sk-label sk-toggleable\"><input class=\"sk-toggleable__control sk-hidden--visually\" id=\"cd80547d-9d2a-4b57-bd1a-97f1b04f419d\" type=\"checkbox\" ><label class=\"sk-toggleable__label\" for=\"cd80547d-9d2a-4b57-bd1a-97f1b04f419d\">Pipeline</label><div class=\"sk-toggleable__content\"><pre>Pipeline(steps=[('preparation',\n",
              "                 ColumnTransformer(transformers=[('num',\n",
              "                                                  Pipeline(steps=[('std_scaler',\n",
              "                                                                   StandardScaler())]),\n",
              "                                                  ['TimeOfDay', 'DayofMonth',\n",
              "                                                   'DayOfYear']),\n",
              "                                                 ('cat', OneHotEncoder(),\n",
              "                                                  ['AIRSNeedCategory',\n",
              "                                                   'DayOfWeek'])])),\n",
              "                ('forest',\n",
              "                 RandomForestRegressor(max_features=8, n_estimators=30,\n",
              "                                       random_state=42))])</pre></div></div></div><div class=\"sk-serial\"><div class=\"sk-item sk-dashed-wrapped\"><div class=\"sk-label-container\"><div class=\"sk-label sk-toggleable\"><input class=\"sk-toggleable__control sk-hidden--visually\" id=\"0d695f2e-8d6e-4fa6-bffa-f545416846d8\" type=\"checkbox\" ><label class=\"sk-toggleable__label\" for=\"0d695f2e-8d6e-4fa6-bffa-f545416846d8\">preparation: ColumnTransformer</label><div class=\"sk-toggleable__content\"><pre>ColumnTransformer(transformers=[('num',\n",
              "                                 Pipeline(steps=[('std_scaler',\n",
              "                                                  StandardScaler())]),\n",
              "                                 ['TimeOfDay', 'DayofMonth', 'DayOfYear']),\n",
              "                                ('cat', OneHotEncoder(),\n",
              "                                 ['AIRSNeedCategory', 'DayOfWeek'])])</pre></div></div></div><div class=\"sk-parallel\"><div class=\"sk-parallel-item\"><div class=\"sk-item\"><div class=\"sk-label-container\"><div class=\"sk-label sk-toggleable\"><input class=\"sk-toggleable__control sk-hidden--visually\" id=\"3504f7fc-1780-47df-8925-551d5ff4def7\" type=\"checkbox\" ><label class=\"sk-toggleable__label\" for=\"3504f7fc-1780-47df-8925-551d5ff4def7\">num</label><div class=\"sk-toggleable__content\"><pre>['TimeOfDay', 'DayofMonth', 'DayOfYear']</pre></div></div></div><div class=\"sk-serial\"><div class=\"sk-item\"><div class=\"sk-serial\"><div class=\"sk-item\"><div class=\"sk-estimator sk-toggleable\"><input class=\"sk-toggleable__control sk-hidden--visually\" id=\"227efe80-05cd-4f3b-9494-740807f6c6bb\" type=\"checkbox\" ><label class=\"sk-toggleable__label\" for=\"227efe80-05cd-4f3b-9494-740807f6c6bb\">StandardScaler</label><div class=\"sk-toggleable__content\"><pre>StandardScaler()</pre></div></div></div></div></div></div></div></div><div class=\"sk-parallel-item\"><div class=\"sk-item\"><div class=\"sk-label-container\"><div class=\"sk-label sk-toggleable\"><input class=\"sk-toggleable__control sk-hidden--visually\" id=\"75c2a1df-6fce-47d9-bdda-f857cfbc87ae\" type=\"checkbox\" ><label class=\"sk-toggleable__label\" for=\"75c2a1df-6fce-47d9-bdda-f857cfbc87ae\">cat</label><div class=\"sk-toggleable__content\"><pre>['AIRSNeedCategory', 'DayOfWeek']</pre></div></div></div><div class=\"sk-serial\"><div class=\"sk-item\"><div class=\"sk-estimator sk-toggleable\"><input class=\"sk-toggleable__control sk-hidden--visually\" id=\"11599ac2-b906-4ed5-b35c-590b386f9ce6\" type=\"checkbox\" ><label class=\"sk-toggleable__label\" for=\"11599ac2-b906-4ed5-b35c-590b386f9ce6\">OneHotEncoder</label><div class=\"sk-toggleable__content\"><pre>OneHotEncoder()</pre></div></div></div></div></div></div></div></div><div class=\"sk-item\"><div class=\"sk-estimator sk-toggleable\"><input class=\"sk-toggleable__control sk-hidden--visually\" id=\"3d978712-9be5-4396-8e72-71b994f79e15\" type=\"checkbox\" ><label class=\"sk-toggleable__label\" for=\"3d978712-9be5-4396-8e72-71b994f79e15\">RandomForestRegressor</label><div class=\"sk-toggleable__content\"><pre>RandomForestRegressor(max_features=8, n_estimators=30, random_state=42)</pre></div></div></div></div></div></div></div>"
            ],
            "text/plain": [
              "Pipeline(steps=[('preparation',\n",
              "                 ColumnTransformer(transformers=[('num',\n",
              "                                                  Pipeline(steps=[('std_scaler',\n",
              "                                                                   StandardScaler())]),\n",
              "                                                  ['TimeOfDay', 'DayofMonth',\n",
              "                                                   'DayOfYear']),\n",
              "                                                 ('cat', OneHotEncoder(),\n",
              "                                                  ['AIRSNeedCategory',\n",
              "                                                   'DayOfWeek'])])),\n",
              "                ('forest',\n",
              "                 RandomForestRegressor(max_features=8, n_estimators=30,\n",
              "                                       random_state=42))])"
            ]
          },
          "metadata": {
            "tags": []
          },
          "execution_count": 57
        }
      ]
    },
    {
      "cell_type": "markdown",
      "metadata": {
        "id": "sSDqnoXxNeRo"
      },
      "source": [
        "### Training and Evaluation"
      ]
    },
    {
      "cell_type": "code",
      "metadata": {
        "id": "sodsldfPNdoK"
      },
      "source": [
        "from sklearn.metrics import r2_score, mean_absolute_error, mean_squared_error"
      ],
      "execution_count": 59,
      "outputs": []
    },
    {
      "cell_type": "code",
      "metadata": {
        "id": "S4PF4o7EQKXs",
        "outputId": "36823451-eeeb-41d8-950d-b4cdab6c4f80",
        "colab": {
          "base_uri": "https://localhost:8080/"
        }
      },
      "source": [
        "r2_score(call_labels, full_pipeline.predict(call))"
      ],
      "execution_count": 60,
      "outputs": [
        {
          "output_type": "execute_result",
          "data": {
            "text/plain": [
              "0.8939468722924431"
            ]
          },
          "metadata": {
            "tags": []
          },
          "execution_count": 60
        }
      ]
    },
    {
      "cell_type": "code",
      "metadata": {
        "id": "AyMrMeZnQumF"
      },
      "source": [
        "import numpy as np"
      ],
      "execution_count": 61,
      "outputs": []
    },
    {
      "cell_type": "code",
      "metadata": {
        "id": "0jvv4r53QKUb",
        "outputId": "7f4d3b61-e441-4a69-c19b-6b9a00b373bd",
        "colab": {
          "base_uri": "https://localhost:8080/"
        }
      },
      "source": [
        "call_predictions = full_pipeline.predict(call)\n",
        "lin_mse = mean_squared_error(call_labels, call_predictions)\n",
        "lin_rmse = np.sqrt(lin_mse)\n",
        "lin_rmse"
      ],
      "execution_count": 62,
      "outputs": [
        {
          "output_type": "execute_result",
          "data": {
            "text/plain": [
              "0.7697423360939184"
            ]
          },
          "metadata": {
            "tags": []
          },
          "execution_count": 62
        }
      ]
    },
    {
      "cell_type": "code",
      "metadata": {
        "id": "6xebXcz74loN"
      },
      "source": [
        "some_data = call.iloc[:10]\n",
        "some_labels = call_labels.iloc[:10]"
      ],
      "execution_count": 71,
      "outputs": []
    },
    {
      "cell_type": "code",
      "metadata": {
        "id": "cRsNyuk0TGjs",
        "outputId": "ee4b9ab0-a574-4ea4-af60-0724bec6b333",
        "colab": {
          "base_uri": "https://localhost:8080/"
        }
      },
      "source": [
        "print(f\"Predictions: {np.round(full_pipeline.predict(some_data))}\")"
      ],
      "execution_count": 72,
      "outputs": [
        {
          "output_type": "stream",
          "text": [
            "Predictions: [2. 3. 2. 2. 1. 2. 3. 3. 1. 3.]\n"
          ],
          "name": "stdout"
        }
      ]
    },
    {
      "cell_type": "code",
      "metadata": {
        "id": "SAcTUCVITGZD",
        "outputId": "f7786c5e-596f-451b-d520-c994a68ad06d",
        "colab": {
          "base_uri": "https://localhost:8080/"
        }
      },
      "source": [
        "print(f\"Labels: {list(some_labels)}\")"
      ],
      "execution_count": 73,
      "outputs": [
        {
          "output_type": "stream",
          "text": [
            "Labels: [1, 2, 1, 2, 1, 1, 3, 2, 1, 2]\n"
          ],
          "name": "stdout"
        }
      ]
    },
    {
      "cell_type": "markdown",
      "metadata": {
        "id": "bc1ineU_SPRE"
      },
      "source": [
        "### Save Model"
      ]
    },
    {
      "cell_type": "code",
      "metadata": {
        "id": "odCrMf4mV45p",
        "outputId": "da318401-d0d2-4b3a-cc77-a80af9a5d5d9",
        "colab": {
          "base_uri": "https://localhost:8080/"
        }
      },
      "source": [
        "import joblib\n",
        "joblib.dump(full_pipeline, \"final_model.pkl\") # DIFF"
      ],
      "execution_count": 75,
      "outputs": [
        {
          "output_type": "execute_result",
          "data": {
            "text/plain": [
              "['final_model.pkl']"
            ]
          },
          "metadata": {
            "tags": []
          },
          "execution_count": 75
        }
      ]
    },
    {
      "cell_type": "code",
      "metadata": {
        "id": "XieL6YTydFGJ",
        "outputId": "efad2ff3-9d80-43fb-b01e-1366b79a1e40",
        "colab": {
          "base_uri": "https://localhost:8080/",
          "height": 206
        }
      },
      "source": [
        "future_calls = call.reset_index()\n",
        "future_calls.head()"
      ],
      "execution_count": 76,
      "outputs": [
        {
          "output_type": "execute_result",
          "data": {
            "text/html": [
              "<div>\n",
              "<style scoped>\n",
              "    .dataframe tbody tr th:only-of-type {\n",
              "        vertical-align: middle;\n",
              "    }\n",
              "\n",
              "    .dataframe tbody tr th {\n",
              "        vertical-align: top;\n",
              "    }\n",
              "\n",
              "    .dataframe thead th {\n",
              "        text-align: right;\n",
              "    }\n",
              "</style>\n",
              "<table border=\"1\" class=\"dataframe\">\n",
              "  <thead>\n",
              "    <tr style=\"text-align: right;\">\n",
              "      <th></th>\n",
              "      <th>CallDateAndTime</th>\n",
              "      <th>AIRSNeedCategory</th>\n",
              "      <th>TimeOfDay</th>\n",
              "      <th>DayofMonth</th>\n",
              "      <th>DayOfWeek</th>\n",
              "      <th>DayOfYear</th>\n",
              "    </tr>\n",
              "  </thead>\n",
              "  <tbody>\n",
              "    <tr>\n",
              "      <th>0</th>\n",
              "      <td>2018-04-01 11:00:00</td>\n",
              "      <td>Alimentation</td>\n",
              "      <td>11</td>\n",
              "      <td>4</td>\n",
              "      <td>Sunday</td>\n",
              "      <td>91</td>\n",
              "    </tr>\n",
              "    <tr>\n",
              "      <th>1</th>\n",
              "      <td>2018-04-01 12:00:00</td>\n",
              "      <td>Alimentation</td>\n",
              "      <td>12</td>\n",
              "      <td>4</td>\n",
              "      <td>Sunday</td>\n",
              "      <td>91</td>\n",
              "    </tr>\n",
              "    <tr>\n",
              "      <th>2</th>\n",
              "      <td>2018-04-01 13:00:00</td>\n",
              "      <td>Soutien personnel, familial et communautaire</td>\n",
              "      <td>13</td>\n",
              "      <td>4</td>\n",
              "      <td>Sunday</td>\n",
              "      <td>91</td>\n",
              "    </tr>\n",
              "    <tr>\n",
              "      <th>3</th>\n",
              "      <td>2018-04-01 13:00:00</td>\n",
              "      <td>Sports et loisirs</td>\n",
              "      <td>13</td>\n",
              "      <td>4</td>\n",
              "      <td>Sunday</td>\n",
              "      <td>91</td>\n",
              "    </tr>\n",
              "    <tr>\n",
              "      <th>4</th>\n",
              "      <td>2018-04-01 17:00:00</td>\n",
              "      <td>Logement</td>\n",
              "      <td>17</td>\n",
              "      <td>4</td>\n",
              "      <td>Sunday</td>\n",
              "      <td>91</td>\n",
              "    </tr>\n",
              "  </tbody>\n",
              "</table>\n",
              "</div>"
            ],
            "text/plain": [
              "      CallDateAndTime  ... DayOfYear\n",
              "0 2018-04-01 11:00:00  ...        91\n",
              "1 2018-04-01 12:00:00  ...        91\n",
              "2 2018-04-01 13:00:00  ...        91\n",
              "3 2018-04-01 13:00:00  ...        91\n",
              "4 2018-04-01 17:00:00  ...        91\n",
              "\n",
              "[5 rows x 6 columns]"
            ]
          },
          "metadata": {
            "tags": []
          },
          "execution_count": 76
        }
      ]
    },
    {
      "cell_type": "code",
      "metadata": {
        "id": "8FFtcfgdd7JK"
      },
      "source": [
        "future_calls['CallDateAndTime'] += pd.DateOffset(years=1)"
      ],
      "execution_count": 77,
      "outputs": []
    },
    {
      "cell_type": "code",
      "metadata": {
        "id": "gH1NmV5PdE32"
      },
      "source": [
        "future_calls['TimeOfDay'] = future_calls['CallDateAndTime'].dt.hour\n",
        "future_calls['DayofMonth'] = future_calls['CallDateAndTime'].dt.month\n",
        "future_calls['DayOfWeek'] = future_calls['CallDateAndTime'].dt.day_name()\n",
        "future_calls['DayOfYear'] = future_calls['CallDateAndTime'].dt.dayofyear"
      ],
      "execution_count": 78,
      "outputs": []
    },
    {
      "cell_type": "code",
      "metadata": {
        "id": "LmuvNpbrdEqg",
        "outputId": "ff4c2e08-9105-40fc-ae43-d915117bb535",
        "colab": {
          "base_uri": "https://localhost:8080/",
          "height": 424
        }
      },
      "source": [
        "future_calls"
      ],
      "execution_count": 79,
      "outputs": [
        {
          "output_type": "execute_result",
          "data": {
            "text/html": [
              "<div>\n",
              "<style scoped>\n",
              "    .dataframe tbody tr th:only-of-type {\n",
              "        vertical-align: middle;\n",
              "    }\n",
              "\n",
              "    .dataframe tbody tr th {\n",
              "        vertical-align: top;\n",
              "    }\n",
              "\n",
              "    .dataframe thead th {\n",
              "        text-align: right;\n",
              "    }\n",
              "</style>\n",
              "<table border=\"1\" class=\"dataframe\">\n",
              "  <thead>\n",
              "    <tr style=\"text-align: right;\">\n",
              "      <th></th>\n",
              "      <th>CallDateAndTime</th>\n",
              "      <th>AIRSNeedCategory</th>\n",
              "      <th>TimeOfDay</th>\n",
              "      <th>DayofMonth</th>\n",
              "      <th>DayOfWeek</th>\n",
              "      <th>DayOfYear</th>\n",
              "    </tr>\n",
              "  </thead>\n",
              "  <tbody>\n",
              "    <tr>\n",
              "      <th>0</th>\n",
              "      <td>2019-04-01 11:00:00</td>\n",
              "      <td>Alimentation</td>\n",
              "      <td>11</td>\n",
              "      <td>4</td>\n",
              "      <td>Monday</td>\n",
              "      <td>91</td>\n",
              "    </tr>\n",
              "    <tr>\n",
              "      <th>1</th>\n",
              "      <td>2019-04-01 12:00:00</td>\n",
              "      <td>Alimentation</td>\n",
              "      <td>12</td>\n",
              "      <td>4</td>\n",
              "      <td>Monday</td>\n",
              "      <td>91</td>\n",
              "    </tr>\n",
              "    <tr>\n",
              "      <th>2</th>\n",
              "      <td>2019-04-01 13:00:00</td>\n",
              "      <td>Soutien personnel, familial et communautaire</td>\n",
              "      <td>13</td>\n",
              "      <td>4</td>\n",
              "      <td>Monday</td>\n",
              "      <td>91</td>\n",
              "    </tr>\n",
              "    <tr>\n",
              "      <th>3</th>\n",
              "      <td>2019-04-01 13:00:00</td>\n",
              "      <td>Sports et loisirs</td>\n",
              "      <td>13</td>\n",
              "      <td>4</td>\n",
              "      <td>Monday</td>\n",
              "      <td>91</td>\n",
              "    </tr>\n",
              "    <tr>\n",
              "      <th>4</th>\n",
              "      <td>2019-04-01 17:00:00</td>\n",
              "      <td>Logement</td>\n",
              "      <td>17</td>\n",
              "      <td>4</td>\n",
              "      <td>Monday</td>\n",
              "      <td>91</td>\n",
              "    </tr>\n",
              "    <tr>\n",
              "      <th>...</th>\n",
              "      <td>...</td>\n",
              "      <td>...</td>\n",
              "      <td>...</td>\n",
              "      <td>...</td>\n",
              "      <td>...</td>\n",
              "      <td>...</td>\n",
              "    </tr>\n",
              "    <tr>\n",
              "      <th>47398</th>\n",
              "      <td>2021-08-31 17:00:00</td>\n",
              "      <td>Emploi et revenu</td>\n",
              "      <td>17</td>\n",
              "      <td>8</td>\n",
              "      <td>Tuesday</td>\n",
              "      <td>243</td>\n",
              "    </tr>\n",
              "    <tr>\n",
              "      <th>47399</th>\n",
              "      <td>2021-08-31 17:00:00</td>\n",
              "      <td>Information et aiguillage</td>\n",
              "      <td>17</td>\n",
              "      <td>8</td>\n",
              "      <td>Tuesday</td>\n",
              "      <td>243</td>\n",
              "    </tr>\n",
              "    <tr>\n",
              "      <th>47400</th>\n",
              "      <td>2021-08-31 17:00:00</td>\n",
              "      <td>Logement</td>\n",
              "      <td>17</td>\n",
              "      <td>8</td>\n",
              "      <td>Tuesday</td>\n",
              "      <td>243</td>\n",
              "    </tr>\n",
              "    <tr>\n",
              "      <th>47401</th>\n",
              "      <td>2021-08-31 17:00:00</td>\n",
              "      <td>Santé mentale et dépendances</td>\n",
              "      <td>17</td>\n",
              "      <td>8</td>\n",
              "      <td>Tuesday</td>\n",
              "      <td>243</td>\n",
              "    </tr>\n",
              "    <tr>\n",
              "      <th>47402</th>\n",
              "      <td>2021-08-31 17:00:00</td>\n",
              "      <td>Soutien personnel, familial et communautaire</td>\n",
              "      <td>17</td>\n",
              "      <td>8</td>\n",
              "      <td>Tuesday</td>\n",
              "      <td>243</td>\n",
              "    </tr>\n",
              "  </tbody>\n",
              "</table>\n",
              "<p>47403 rows × 6 columns</p>\n",
              "</div>"
            ],
            "text/plain": [
              "          CallDateAndTime  ... DayOfYear\n",
              "0     2019-04-01 11:00:00  ...        91\n",
              "1     2019-04-01 12:00:00  ...        91\n",
              "2     2019-04-01 13:00:00  ...        91\n",
              "3     2019-04-01 13:00:00  ...        91\n",
              "4     2019-04-01 17:00:00  ...        91\n",
              "...                   ...  ...       ...\n",
              "47398 2021-08-31 17:00:00  ...       243\n",
              "47399 2021-08-31 17:00:00  ...       243\n",
              "47400 2021-08-31 17:00:00  ...       243\n",
              "47401 2021-08-31 17:00:00  ...       243\n",
              "47402 2021-08-31 17:00:00  ...       243\n",
              "\n",
              "[47403 rows x 6 columns]"
            ]
          },
          "metadata": {
            "tags": []
          },
          "execution_count": 79
        }
      ]
    },
    {
      "cell_type": "code",
      "metadata": {
        "id": "HFNkNnUjhfbl"
      },
      "source": [
        "from datetime import datetime"
      ],
      "execution_count": 80,
      "outputs": []
    },
    {
      "cell_type": "code",
      "metadata": {
        "id": "nTnIXv2TdEfm",
        "outputId": "8c90d5ec-89bf-4d98-eaf1-3e7288c45a7b",
        "colab": {
          "base_uri": "https://localhost:8080/"
        }
      },
      "source": [
        "# Pick a date to explore\n",
        "my_date = datetime(2020, 12, 20)\n",
        "my_date"
      ],
      "execution_count": 81,
      "outputs": [
        {
          "output_type": "execute_result",
          "data": {
            "text/plain": [
              "datetime.datetime(2020, 12, 20, 0, 0)"
            ]
          },
          "metadata": {
            "tags": []
          },
          "execution_count": 81
        }
      ]
    },
    {
      "cell_type": "code",
      "metadata": {
        "id": "j2BGGB8whyHx"
      },
      "source": [
        "call_days = future_calls['CallDateAndTime'].dt.dayofyear\n",
        "# call_days"
      ],
      "execution_count": 82,
      "outputs": []
    },
    {
      "cell_type": "code",
      "metadata": {
        "id": "q_Q1Kbq7hx3w"
      },
      "source": [
        "my_day = my_date.timetuple().tm_yday"
      ],
      "execution_count": 83,
      "outputs": []
    },
    {
      "cell_type": "code",
      "metadata": {
        "id": "1Blbayccishk"
      },
      "source": [
        "myday_calls = future_calls[(call_days==my_day) & (future_calls['CallDateAndTime']>=my_date) ] "
      ],
      "execution_count": 103,
      "outputs": []
    },
    {
      "cell_type": "code",
      "metadata": {
        "id": "uc59N809isdC",
        "outputId": "76c0957f-cb76-4649-9f3d-8ed7f008b154",
        "colab": {
          "base_uri": "https://localhost:8080/",
          "height": 424
        }
      },
      "source": [
        "myday_calls"
      ],
      "execution_count": 104,
      "outputs": [
        {
          "output_type": "execute_result",
          "data": {
            "text/html": [
              "<div>\n",
              "<style scoped>\n",
              "    .dataframe tbody tr th:only-of-type {\n",
              "        vertical-align: middle;\n",
              "    }\n",
              "\n",
              "    .dataframe tbody tr th {\n",
              "        vertical-align: top;\n",
              "    }\n",
              "\n",
              "    .dataframe thead th {\n",
              "        text-align: right;\n",
              "    }\n",
              "</style>\n",
              "<table border=\"1\" class=\"dataframe\">\n",
              "  <thead>\n",
              "    <tr style=\"text-align: right;\">\n",
              "      <th></th>\n",
              "      <th>CallDateAndTime</th>\n",
              "      <th>AIRSNeedCategory</th>\n",
              "      <th>TimeOfDay</th>\n",
              "      <th>DayofMonth</th>\n",
              "      <th>DayOfWeek</th>\n",
              "      <th>DayOfYear</th>\n",
              "    </tr>\n",
              "  </thead>\n",
              "  <tbody>\n",
              "    <tr>\n",
              "      <th>32193</th>\n",
              "      <td>2020-12-20 08:00:00</td>\n",
              "      <td>Alimentation</td>\n",
              "      <td>8</td>\n",
              "      <td>12</td>\n",
              "      <td>Sunday</td>\n",
              "      <td>355</td>\n",
              "    </tr>\n",
              "    <tr>\n",
              "      <th>32194</th>\n",
              "      <td>2020-12-20 08:00:00</td>\n",
              "      <td>Assistance matérielle</td>\n",
              "      <td>8</td>\n",
              "      <td>12</td>\n",
              "      <td>Sunday</td>\n",
              "      <td>355</td>\n",
              "    </tr>\n",
              "    <tr>\n",
              "      <th>32195</th>\n",
              "      <td>2020-12-20 08:00:00</td>\n",
              "      <td>Bénévolat et dons</td>\n",
              "      <td>8</td>\n",
              "      <td>12</td>\n",
              "      <td>Sunday</td>\n",
              "      <td>355</td>\n",
              "    </tr>\n",
              "    <tr>\n",
              "      <th>32196</th>\n",
              "      <td>2020-12-20 08:00:00</td>\n",
              "      <td>Soutien personnel, familial et communautaire</td>\n",
              "      <td>8</td>\n",
              "      <td>12</td>\n",
              "      <td>Sunday</td>\n",
              "      <td>355</td>\n",
              "    </tr>\n",
              "    <tr>\n",
              "      <th>32197</th>\n",
              "      <td>2020-12-20 09:00:00</td>\n",
              "      <td>Alimentation</td>\n",
              "      <td>9</td>\n",
              "      <td>12</td>\n",
              "      <td>Sunday</td>\n",
              "      <td>355</td>\n",
              "    </tr>\n",
              "    <tr>\n",
              "      <th>...</th>\n",
              "      <td>...</td>\n",
              "      <td>...</td>\n",
              "      <td>...</td>\n",
              "      <td>...</td>\n",
              "      <td>...</td>\n",
              "      <td>...</td>\n",
              "    </tr>\n",
              "    <tr>\n",
              "      <th>32250</th>\n",
              "      <td>2020-12-20 16:00:00</td>\n",
              "      <td>Services gouvernementaux, développement économ...</td>\n",
              "      <td>16</td>\n",
              "      <td>12</td>\n",
              "      <td>Sunday</td>\n",
              "      <td>355</td>\n",
              "    </tr>\n",
              "    <tr>\n",
              "      <th>32251</th>\n",
              "      <td>2020-12-20 16:00:00</td>\n",
              "      <td>Soutien personnel, familial et communautaire</td>\n",
              "      <td>16</td>\n",
              "      <td>12</td>\n",
              "      <td>Sunday</td>\n",
              "      <td>355</td>\n",
              "    </tr>\n",
              "    <tr>\n",
              "      <th>32252</th>\n",
              "      <td>2020-12-20 16:00:00</td>\n",
              "      <td>Sports et loisirs</td>\n",
              "      <td>16</td>\n",
              "      <td>12</td>\n",
              "      <td>Sunday</td>\n",
              "      <td>355</td>\n",
              "    </tr>\n",
              "    <tr>\n",
              "      <th>32253</th>\n",
              "      <td>2020-12-20 17:00:00</td>\n",
              "      <td>Logement</td>\n",
              "      <td>17</td>\n",
              "      <td>12</td>\n",
              "      <td>Sunday</td>\n",
              "      <td>355</td>\n",
              "    </tr>\n",
              "    <tr>\n",
              "      <th>32254</th>\n",
              "      <td>2020-12-20 17:00:00</td>\n",
              "      <td>Soutien personnel, familial et communautaire</td>\n",
              "      <td>17</td>\n",
              "      <td>12</td>\n",
              "      <td>Sunday</td>\n",
              "      <td>355</td>\n",
              "    </tr>\n",
              "  </tbody>\n",
              "</table>\n",
              "<p>62 rows × 6 columns</p>\n",
              "</div>"
            ],
            "text/plain": [
              "          CallDateAndTime  ... DayOfYear\n",
              "32193 2020-12-20 08:00:00  ...       355\n",
              "32194 2020-12-20 08:00:00  ...       355\n",
              "32195 2020-12-20 08:00:00  ...       355\n",
              "32196 2020-12-20 08:00:00  ...       355\n",
              "32197 2020-12-20 09:00:00  ...       355\n",
              "...                   ...  ...       ...\n",
              "32250 2020-12-20 16:00:00  ...       355\n",
              "32251 2020-12-20 16:00:00  ...       355\n",
              "32252 2020-12-20 16:00:00  ...       355\n",
              "32253 2020-12-20 17:00:00  ...       355\n",
              "32254 2020-12-20 17:00:00  ...       355\n",
              "\n",
              "[62 rows x 6 columns]"
            ]
          },
          "metadata": {
            "tags": []
          },
          "execution_count": 104
        }
      ]
    },
    {
      "cell_type": "code",
      "metadata": {
        "id": "S7x8GMQOkqw2",
        "outputId": "64e8be82-b199-49ea-ed5a-0321cc210941",
        "colab": {
          "base_uri": "https://localhost:8080/"
        }
      },
      "source": [
        "myday_calls['Frequency'] = np.round(full_pipeline.predict(myday_calls))"
      ],
      "execution_count": 105,
      "outputs": [
        {
          "output_type": "stream",
          "text": [
            "/usr/local/lib/python3.6/dist-packages/sklearn/compose/_column_transformer.py:440: FutureWarning: Given feature/column names or counts do not match the ones for the data given during fit. This will fail from v0.24.\n",
            "  FutureWarning)\n",
            "/usr/local/lib/python3.6/dist-packages/ipykernel_launcher.py:1: SettingWithCopyWarning: \n",
            "A value is trying to be set on a copy of a slice from a DataFrame.\n",
            "Try using .loc[row_indexer,col_indexer] = value instead\n",
            "\n",
            "See the caveats in the documentation: https://pandas.pydata.org/pandas-docs/stable/user_guide/indexing.html#returning-a-view-versus-a-copy\n",
            "  \"\"\"Entry point for launching an IPython kernel.\n"
          ],
          "name": "stderr"
        }
      ]
    },
    {
      "cell_type": "code",
      "metadata": {
        "id": "or4fXtb2kqct",
        "outputId": "cc6b11d9-47eb-4ad5-da08-9ccd40c3ce3a",
        "colab": {
          "base_uri": "https://localhost:8080/",
          "height": 424
        }
      },
      "source": [
        "myday_calls"
      ],
      "execution_count": 106,
      "outputs": [
        {
          "output_type": "execute_result",
          "data": {
            "text/html": [
              "<div>\n",
              "<style scoped>\n",
              "    .dataframe tbody tr th:only-of-type {\n",
              "        vertical-align: middle;\n",
              "    }\n",
              "\n",
              "    .dataframe tbody tr th {\n",
              "        vertical-align: top;\n",
              "    }\n",
              "\n",
              "    .dataframe thead th {\n",
              "        text-align: right;\n",
              "    }\n",
              "</style>\n",
              "<table border=\"1\" class=\"dataframe\">\n",
              "  <thead>\n",
              "    <tr style=\"text-align: right;\">\n",
              "      <th></th>\n",
              "      <th>CallDateAndTime</th>\n",
              "      <th>AIRSNeedCategory</th>\n",
              "      <th>TimeOfDay</th>\n",
              "      <th>DayofMonth</th>\n",
              "      <th>DayOfWeek</th>\n",
              "      <th>DayOfYear</th>\n",
              "      <th>Frequency</th>\n",
              "    </tr>\n",
              "  </thead>\n",
              "  <tbody>\n",
              "    <tr>\n",
              "      <th>32193</th>\n",
              "      <td>2020-12-20 08:00:00</td>\n",
              "      <td>Alimentation</td>\n",
              "      <td>8</td>\n",
              "      <td>12</td>\n",
              "      <td>Sunday</td>\n",
              "      <td>355</td>\n",
              "      <td>2.0</td>\n",
              "    </tr>\n",
              "    <tr>\n",
              "      <th>32194</th>\n",
              "      <td>2020-12-20 08:00:00</td>\n",
              "      <td>Assistance matérielle</td>\n",
              "      <td>8</td>\n",
              "      <td>12</td>\n",
              "      <td>Sunday</td>\n",
              "      <td>355</td>\n",
              "      <td>1.0</td>\n",
              "    </tr>\n",
              "    <tr>\n",
              "      <th>32195</th>\n",
              "      <td>2020-12-20 08:00:00</td>\n",
              "      <td>Bénévolat et dons</td>\n",
              "      <td>8</td>\n",
              "      <td>12</td>\n",
              "      <td>Sunday</td>\n",
              "      <td>355</td>\n",
              "      <td>2.0</td>\n",
              "    </tr>\n",
              "    <tr>\n",
              "      <th>32196</th>\n",
              "      <td>2020-12-20 08:00:00</td>\n",
              "      <td>Soutien personnel, familial et communautaire</td>\n",
              "      <td>8</td>\n",
              "      <td>12</td>\n",
              "      <td>Sunday</td>\n",
              "      <td>355</td>\n",
              "      <td>1.0</td>\n",
              "    </tr>\n",
              "    <tr>\n",
              "      <th>32197</th>\n",
              "      <td>2020-12-20 09:00:00</td>\n",
              "      <td>Alimentation</td>\n",
              "      <td>9</td>\n",
              "      <td>12</td>\n",
              "      <td>Sunday</td>\n",
              "      <td>355</td>\n",
              "      <td>2.0</td>\n",
              "    </tr>\n",
              "    <tr>\n",
              "      <th>...</th>\n",
              "      <td>...</td>\n",
              "      <td>...</td>\n",
              "      <td>...</td>\n",
              "      <td>...</td>\n",
              "      <td>...</td>\n",
              "      <td>...</td>\n",
              "      <td>...</td>\n",
              "    </tr>\n",
              "    <tr>\n",
              "      <th>32250</th>\n",
              "      <td>2020-12-20 16:00:00</td>\n",
              "      <td>Services gouvernementaux, développement économ...</td>\n",
              "      <td>16</td>\n",
              "      <td>12</td>\n",
              "      <td>Sunday</td>\n",
              "      <td>355</td>\n",
              "      <td>1.0</td>\n",
              "    </tr>\n",
              "    <tr>\n",
              "      <th>32251</th>\n",
              "      <td>2020-12-20 16:00:00</td>\n",
              "      <td>Soutien personnel, familial et communautaire</td>\n",
              "      <td>16</td>\n",
              "      <td>12</td>\n",
              "      <td>Sunday</td>\n",
              "      <td>355</td>\n",
              "      <td>2.0</td>\n",
              "    </tr>\n",
              "    <tr>\n",
              "      <th>32252</th>\n",
              "      <td>2020-12-20 16:00:00</td>\n",
              "      <td>Sports et loisirs</td>\n",
              "      <td>16</td>\n",
              "      <td>12</td>\n",
              "      <td>Sunday</td>\n",
              "      <td>355</td>\n",
              "      <td>1.0</td>\n",
              "    </tr>\n",
              "    <tr>\n",
              "      <th>32253</th>\n",
              "      <td>2020-12-20 17:00:00</td>\n",
              "      <td>Logement</td>\n",
              "      <td>17</td>\n",
              "      <td>12</td>\n",
              "      <td>Sunday</td>\n",
              "      <td>355</td>\n",
              "      <td>2.0</td>\n",
              "    </tr>\n",
              "    <tr>\n",
              "      <th>32254</th>\n",
              "      <td>2020-12-20 17:00:00</td>\n",
              "      <td>Soutien personnel, familial et communautaire</td>\n",
              "      <td>17</td>\n",
              "      <td>12</td>\n",
              "      <td>Sunday</td>\n",
              "      <td>355</td>\n",
              "      <td>1.0</td>\n",
              "    </tr>\n",
              "  </tbody>\n",
              "</table>\n",
              "<p>62 rows × 7 columns</p>\n",
              "</div>"
            ],
            "text/plain": [
              "          CallDateAndTime  ... Frequency\n",
              "32193 2020-12-20 08:00:00  ...       2.0\n",
              "32194 2020-12-20 08:00:00  ...       1.0\n",
              "32195 2020-12-20 08:00:00  ...       2.0\n",
              "32196 2020-12-20 08:00:00  ...       1.0\n",
              "32197 2020-12-20 09:00:00  ...       2.0\n",
              "...                   ...  ...       ...\n",
              "32250 2020-12-20 16:00:00  ...       1.0\n",
              "32251 2020-12-20 16:00:00  ...       2.0\n",
              "32252 2020-12-20 16:00:00  ...       1.0\n",
              "32253 2020-12-20 17:00:00  ...       2.0\n",
              "32254 2020-12-20 17:00:00  ...       1.0\n",
              "\n",
              "[62 rows x 7 columns]"
            ]
          },
          "metadata": {
            "tags": []
          },
          "execution_count": 106
        }
      ]
    },
    {
      "cell_type": "code",
      "metadata": {
        "id": "PtX96o0Erehw",
        "outputId": "0cabf758-0016-4952-d275-c21e639da67e",
        "colab": {
          "base_uri": "https://localhost:8080/",
          "height": 363
        }
      },
      "source": [
        "totals = myday_calls.groupby('CallDateAndTime', as_index=False)['Frequency'].sum()\n",
        "totals.columns = ['CallDateAndTime', 'CountPerCategory']\n",
        "totals"
      ],
      "execution_count": 107,
      "outputs": [
        {
          "output_type": "execute_result",
          "data": {
            "text/html": [
              "<div>\n",
              "<style scoped>\n",
              "    .dataframe tbody tr th:only-of-type {\n",
              "        vertical-align: middle;\n",
              "    }\n",
              "\n",
              "    .dataframe tbody tr th {\n",
              "        vertical-align: top;\n",
              "    }\n",
              "\n",
              "    .dataframe thead th {\n",
              "        text-align: right;\n",
              "    }\n",
              "</style>\n",
              "<table border=\"1\" class=\"dataframe\">\n",
              "  <thead>\n",
              "    <tr style=\"text-align: right;\">\n",
              "      <th></th>\n",
              "      <th>CallDateAndTime</th>\n",
              "      <th>CountPerCategory</th>\n",
              "    </tr>\n",
              "  </thead>\n",
              "  <tbody>\n",
              "    <tr>\n",
              "      <th>0</th>\n",
              "      <td>2020-12-20 08:00:00</td>\n",
              "      <td>6.0</td>\n",
              "    </tr>\n",
              "    <tr>\n",
              "      <th>1</th>\n",
              "      <td>2020-12-20 09:00:00</td>\n",
              "      <td>9.0</td>\n",
              "    </tr>\n",
              "    <tr>\n",
              "      <th>2</th>\n",
              "      <td>2020-12-20 10:00:00</td>\n",
              "      <td>11.0</td>\n",
              "    </tr>\n",
              "    <tr>\n",
              "      <th>3</th>\n",
              "      <td>2020-12-20 11:00:00</td>\n",
              "      <td>11.0</td>\n",
              "    </tr>\n",
              "    <tr>\n",
              "      <th>4</th>\n",
              "      <td>2020-12-20 12:00:00</td>\n",
              "      <td>7.0</td>\n",
              "    </tr>\n",
              "    <tr>\n",
              "      <th>5</th>\n",
              "      <td>2020-12-20 13:00:00</td>\n",
              "      <td>13.0</td>\n",
              "    </tr>\n",
              "    <tr>\n",
              "      <th>6</th>\n",
              "      <td>2020-12-20 14:00:00</td>\n",
              "      <td>10.0</td>\n",
              "    </tr>\n",
              "    <tr>\n",
              "      <th>7</th>\n",
              "      <td>2020-12-20 15:00:00</td>\n",
              "      <td>11.0</td>\n",
              "    </tr>\n",
              "    <tr>\n",
              "      <th>8</th>\n",
              "      <td>2020-12-20 16:00:00</td>\n",
              "      <td>8.0</td>\n",
              "    </tr>\n",
              "    <tr>\n",
              "      <th>9</th>\n",
              "      <td>2020-12-20 17:00:00</td>\n",
              "      <td>3.0</td>\n",
              "    </tr>\n",
              "  </tbody>\n",
              "</table>\n",
              "</div>"
            ],
            "text/plain": [
              "      CallDateAndTime  CountPerCategory\n",
              "0 2020-12-20 08:00:00               6.0\n",
              "1 2020-12-20 09:00:00               9.0\n",
              "2 2020-12-20 10:00:00              11.0\n",
              "3 2020-12-20 11:00:00              11.0\n",
              "4 2020-12-20 12:00:00               7.0\n",
              "5 2020-12-20 13:00:00              13.0\n",
              "6 2020-12-20 14:00:00              10.0\n",
              "7 2020-12-20 15:00:00              11.0\n",
              "8 2020-12-20 16:00:00               8.0\n",
              "9 2020-12-20 17:00:00               3.0"
            ]
          },
          "metadata": {
            "tags": []
          },
          "execution_count": 107
        }
      ]
    },
    {
      "cell_type": "code",
      "metadata": {
        "id": "sMuWkxXylnXy"
      },
      "source": [
        "myday_calls = myday_calls.merge(totals, on='CallDateAndTime', )"
      ],
      "execution_count": 108,
      "outputs": []
    },
    {
      "cell_type": "code",
      "metadata": {
        "id": "ZirzSNtRlnIH"
      },
      "source": [
        "myday_calls['CallFraction'] = myday_calls['Frequency'] / myday_calls['CountPerCategory']\n",
        "# myday_calls.set_index('CallDateAndTime')"
      ],
      "execution_count": 109,
      "outputs": []
    },
    {
      "cell_type": "code",
      "metadata": {
        "id": "yJ4d84RvspN1"
      },
      "source": [
        "myday_calls = myday_calls.pivot_table(values='CallFraction', index='CallDateAndTime', columns='AIRSNeedCategory', fill_value=0).reset_index().set_index('CallDateAndTime')"
      ],
      "execution_count": 110,
      "outputs": []
    },
    {
      "cell_type": "code",
      "metadata": {
        "id": "_sUCGO-FAIi8",
        "outputId": "2c0b7953-d830-4eeb-a80a-28aaa6502406",
        "colab": {
          "base_uri": "https://localhost:8080/",
          "height": 481
        }
      },
      "source": [
        "myday_calls"
      ],
      "execution_count": 113,
      "outputs": [
        {
          "output_type": "execute_result",
          "data": {
            "text/html": [
              "<div>\n",
              "<style scoped>\n",
              "    .dataframe tbody tr th:only-of-type {\n",
              "        vertical-align: middle;\n",
              "    }\n",
              "\n",
              "    .dataframe tbody tr th {\n",
              "        vertical-align: top;\n",
              "    }\n",
              "\n",
              "    .dataframe thead th {\n",
              "        text-align: right;\n",
              "    }\n",
              "</style>\n",
              "<table border=\"1\" class=\"dataframe\">\n",
              "  <thead>\n",
              "    <tr style=\"text-align: right;\">\n",
              "      <th>AIRSNeedCategory</th>\n",
              "      <th>Alimentation</th>\n",
              "      <th>Assistance matérielle</th>\n",
              "      <th>Bénévolat et dons</th>\n",
              "      <th>Emploi et revenu</th>\n",
              "      <th>Information et aiguillage</th>\n",
              "      <th>Justice, consommation et sécurité publique</th>\n",
              "      <th>Logement</th>\n",
              "      <th>Santé</th>\n",
              "      <th>Santé mentale et dépendances</th>\n",
              "      <th>Services gouvernementaux, développement économique et associations professionnelles</th>\n",
              "      <th>Soutien personnel, familial et communautaire</th>\n",
              "      <th>Sports et loisirs</th>\n",
              "      <th>Transport</th>\n",
              "    </tr>\n",
              "    <tr>\n",
              "      <th>CallDateAndTime</th>\n",
              "      <th></th>\n",
              "      <th></th>\n",
              "      <th></th>\n",
              "      <th></th>\n",
              "      <th></th>\n",
              "      <th></th>\n",
              "      <th></th>\n",
              "      <th></th>\n",
              "      <th></th>\n",
              "      <th></th>\n",
              "      <th></th>\n",
              "      <th></th>\n",
              "      <th></th>\n",
              "    </tr>\n",
              "  </thead>\n",
              "  <tbody>\n",
              "    <tr>\n",
              "      <th>2020-12-20 08:00:00</th>\n",
              "      <td>0.333333</td>\n",
              "      <td>0.166667</td>\n",
              "      <td>0.333333</td>\n",
              "      <td>0.000000</td>\n",
              "      <td>0.000000</td>\n",
              "      <td>0.000000</td>\n",
              "      <td>0.000000</td>\n",
              "      <td>0.000000</td>\n",
              "      <td>0.000000</td>\n",
              "      <td>0.000000</td>\n",
              "      <td>0.166667</td>\n",
              "      <td>0.000000</td>\n",
              "      <td>0.000000</td>\n",
              "    </tr>\n",
              "    <tr>\n",
              "      <th>2020-12-20 09:00:00</th>\n",
              "      <td>0.222222</td>\n",
              "      <td>0.000000</td>\n",
              "      <td>0.222222</td>\n",
              "      <td>0.111111</td>\n",
              "      <td>0.000000</td>\n",
              "      <td>0.111111</td>\n",
              "      <td>0.000000</td>\n",
              "      <td>0.111111</td>\n",
              "      <td>0.000000</td>\n",
              "      <td>0.111111</td>\n",
              "      <td>0.111111</td>\n",
              "      <td>0.000000</td>\n",
              "      <td>0.000000</td>\n",
              "    </tr>\n",
              "    <tr>\n",
              "      <th>2020-12-20 10:00:00</th>\n",
              "      <td>0.181818</td>\n",
              "      <td>0.000000</td>\n",
              "      <td>0.181818</td>\n",
              "      <td>0.000000</td>\n",
              "      <td>0.000000</td>\n",
              "      <td>0.090909</td>\n",
              "      <td>0.000000</td>\n",
              "      <td>0.090909</td>\n",
              "      <td>0.181818</td>\n",
              "      <td>0.000000</td>\n",
              "      <td>0.181818</td>\n",
              "      <td>0.000000</td>\n",
              "      <td>0.090909</td>\n",
              "    </tr>\n",
              "    <tr>\n",
              "      <th>2020-12-20 11:00:00</th>\n",
              "      <td>0.181818</td>\n",
              "      <td>0.000000</td>\n",
              "      <td>0.181818</td>\n",
              "      <td>0.000000</td>\n",
              "      <td>0.090909</td>\n",
              "      <td>0.090909</td>\n",
              "      <td>0.090909</td>\n",
              "      <td>0.090909</td>\n",
              "      <td>0.000000</td>\n",
              "      <td>0.000000</td>\n",
              "      <td>0.181818</td>\n",
              "      <td>0.090909</td>\n",
              "      <td>0.000000</td>\n",
              "    </tr>\n",
              "    <tr>\n",
              "      <th>2020-12-20 12:00:00</th>\n",
              "      <td>0.285714</td>\n",
              "      <td>0.000000</td>\n",
              "      <td>0.285714</td>\n",
              "      <td>0.000000</td>\n",
              "      <td>0.000000</td>\n",
              "      <td>0.000000</td>\n",
              "      <td>0.285714</td>\n",
              "      <td>0.000000</td>\n",
              "      <td>0.000000</td>\n",
              "      <td>0.000000</td>\n",
              "      <td>0.142857</td>\n",
              "      <td>0.000000</td>\n",
              "      <td>0.000000</td>\n",
              "    </tr>\n",
              "    <tr>\n",
              "      <th>2020-12-20 13:00:00</th>\n",
              "      <td>0.153846</td>\n",
              "      <td>0.000000</td>\n",
              "      <td>0.153846</td>\n",
              "      <td>0.076923</td>\n",
              "      <td>0.000000</td>\n",
              "      <td>0.076923</td>\n",
              "      <td>0.153846</td>\n",
              "      <td>0.153846</td>\n",
              "      <td>0.153846</td>\n",
              "      <td>0.000000</td>\n",
              "      <td>0.076923</td>\n",
              "      <td>0.000000</td>\n",
              "      <td>0.000000</td>\n",
              "    </tr>\n",
              "    <tr>\n",
              "      <th>2020-12-20 14:00:00</th>\n",
              "      <td>0.200000</td>\n",
              "      <td>0.000000</td>\n",
              "      <td>0.100000</td>\n",
              "      <td>0.000000</td>\n",
              "      <td>0.100000</td>\n",
              "      <td>0.000000</td>\n",
              "      <td>0.000000</td>\n",
              "      <td>0.200000</td>\n",
              "      <td>0.100000</td>\n",
              "      <td>0.000000</td>\n",
              "      <td>0.200000</td>\n",
              "      <td>0.000000</td>\n",
              "      <td>0.100000</td>\n",
              "    </tr>\n",
              "    <tr>\n",
              "      <th>2020-12-20 15:00:00</th>\n",
              "      <td>0.181818</td>\n",
              "      <td>0.090909</td>\n",
              "      <td>0.090909</td>\n",
              "      <td>0.000000</td>\n",
              "      <td>0.000000</td>\n",
              "      <td>0.090909</td>\n",
              "      <td>0.181818</td>\n",
              "      <td>0.000000</td>\n",
              "      <td>0.090909</td>\n",
              "      <td>0.000000</td>\n",
              "      <td>0.181818</td>\n",
              "      <td>0.090909</td>\n",
              "      <td>0.000000</td>\n",
              "    </tr>\n",
              "    <tr>\n",
              "      <th>2020-12-20 16:00:00</th>\n",
              "      <td>0.125000</td>\n",
              "      <td>0.000000</td>\n",
              "      <td>0.125000</td>\n",
              "      <td>0.000000</td>\n",
              "      <td>0.125000</td>\n",
              "      <td>0.000000</td>\n",
              "      <td>0.125000</td>\n",
              "      <td>0.000000</td>\n",
              "      <td>0.000000</td>\n",
              "      <td>0.125000</td>\n",
              "      <td>0.250000</td>\n",
              "      <td>0.125000</td>\n",
              "      <td>0.000000</td>\n",
              "    </tr>\n",
              "    <tr>\n",
              "      <th>2020-12-20 17:00:00</th>\n",
              "      <td>0.000000</td>\n",
              "      <td>0.000000</td>\n",
              "      <td>0.000000</td>\n",
              "      <td>0.000000</td>\n",
              "      <td>0.000000</td>\n",
              "      <td>0.000000</td>\n",
              "      <td>0.666667</td>\n",
              "      <td>0.000000</td>\n",
              "      <td>0.000000</td>\n",
              "      <td>0.000000</td>\n",
              "      <td>0.333333</td>\n",
              "      <td>0.000000</td>\n",
              "      <td>0.000000</td>\n",
              "    </tr>\n",
              "  </tbody>\n",
              "</table>\n",
              "</div>"
            ],
            "text/plain": [
              "AIRSNeedCategory     Alimentation  ...  Transport\n",
              "CallDateAndTime                    ...           \n",
              "2020-12-20 08:00:00      0.333333  ...   0.000000\n",
              "2020-12-20 09:00:00      0.222222  ...   0.000000\n",
              "2020-12-20 10:00:00      0.181818  ...   0.090909\n",
              "2020-12-20 11:00:00      0.181818  ...   0.000000\n",
              "2020-12-20 12:00:00      0.285714  ...   0.000000\n",
              "2020-12-20 13:00:00      0.153846  ...   0.000000\n",
              "2020-12-20 14:00:00      0.200000  ...   0.100000\n",
              "2020-12-20 15:00:00      0.181818  ...   0.000000\n",
              "2020-12-20 16:00:00      0.125000  ...   0.000000\n",
              "2020-12-20 17:00:00      0.000000  ...   0.000000\n",
              "\n",
              "[10 rows x 13 columns]"
            ]
          },
          "metadata": {
            "tags": []
          },
          "execution_count": 113
        }
      ]
    },
    {
      "cell_type": "code",
      "metadata": {
        "id": "vbx9a-Q3vuFC"
      },
      "source": [
        "import matplotlib.pyplot as plt"
      ],
      "execution_count": 111,
      "outputs": []
    },
    {
      "cell_type": "code",
      "metadata": {
        "id": "F0bjTKtkspB7",
        "outputId": "863ac06c-66eb-4983-8391-f577dd763a6c",
        "colab": {
          "base_uri": "https://localhost:8080/",
          "height": 753
        }
      },
      "source": [
        "myday_calls.plot(kind='bar', figsize=(50, 20), cmap=plt.get_cmap('jet'), alpha=0.9, stacked=True)"
      ],
      "execution_count": 112,
      "outputs": [
        {
          "output_type": "execute_result",
          "data": {
            "text/plain": [
              "<matplotlib.axes._subplots.AxesSubplot at 0x7f2e80e76eb8>"
            ]
          },
          "metadata": {
            "tags": []
          },
          "execution_count": 112
        },
        {
          "output_type": "display_data",
          "data": {
            "image/png": "[encoded data removed]",
            "text/plain": [
              "<Figure size 3600x1440 with 1 Axes>"
            ]
          },
          "metadata": {
            "tags": [],
            "needs_background": "light"
          }
        }
      ]
    },
    {
      "cell_type": "code",
      "metadata": {
        "id": "uKEPkvY0so5g",
        "outputId": "4c1b9cdd-8f72-4c8d-b5d6-fdba9db6155b",
        "colab": {
          "base_uri": "https://localhost:8080/",
          "height": 756
        }
      },
      "source": [
        "myday_calls.plot(kind='bar', figsize=(50, 20), cmap=plt.get_cmap('jet'), alpha=0.9)"
      ],
      "execution_count": 114,
      "outputs": [
        {
          "output_type": "execute_result",
          "data": {
            "text/plain": [
              "<matplotlib.axes._subplots.AxesSubplot at 0x7f2e78985e80>"
            ]
          },
          "metadata": {
            "tags": []
          },
          "execution_count": 114
        },
        {
          "output_type": "display_data",
          "data": {
            "image/png": "[encoded data removed]",
            "text/plain": [
              "<Figure size 3600x1440 with 1 Axes>"
            ]
          },
          "metadata": {
            "tags": [],
            "needs_background": "light"
          }
        }
      ]
    },
    {
      "cell_type": "code",
      "metadata": {
        "id": "6VKtcshGyrzO",
        "outputId": "0a0497d0-4a4a-4665-ec61-0c711e24fe0e",
        "colab": {
          "base_uri": "https://localhost:8080/"
        }
      },
      "source": [
        "cd \"/gdrive/My Drive/Colab Notebooks/AI4Good/\""
      ],
      "execution_count": null,
      "outputs": [
        {
          "output_type": "stream",
          "text": [
            "/gdrive/My Drive/Colab Notebooks/AI4Good\n"
          ],
          "name": "stdout"
        }
      ]
    },
    {
      "cell_type": "code",
      "metadata": {
        "id": "Lz4TBb_PCfzx",
        "outputId": "73f278fd-683e-4886-9038-845784a85926",
        "colab": {
          "base_uri": "https://localhost:8080/"
        }
      },
      "source": [
        "import joblib\n",
        "joblib.dump(model, \"model.pkl\") # DIFF"
      ],
      "execution_count": null,
      "outputs": [
        {
          "output_type": "execute_result",
          "data": {
            "text/plain": [
              "['model.pkl']"
            ]
          },
          "metadata": {
            "tags": []
          },
          "execution_count": 164
        }
      ]
    },
    {
      "cell_type": "code",
      "metadata": {
        "id": "bXMPBVg2yl23"
      },
      "source": [
        ""
      ],
      "execution_count": null,
      "outputs": []
    }
  ]
}